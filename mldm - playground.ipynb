{
 "cells": [
  {
   "cell_type": "code",
   "execution_count": 1,
   "id": "59c43896-871a-462b-9645-74646e8f6c53",
   "metadata": {},
   "outputs": [],
   "source": [
    "import matplotlib.pyplot as plt\n",
    "import pandas as pd\n",
    "from apyori import apriori\n",
    "import ARutils\n",
    "import plotly.express as px\n",
    "import plotly.io as pio\n",
    " \n",
    "%matplotlib inline"
   ]
  },
  {
   "cell_type": "code",
   "execution_count": 16,
   "id": "7d6c4e3c-2f9a-4b7d-b5d3-9bd282a714bd",
   "metadata": {},
   "outputs": [
    {
     "data": {
      "text/plain": [
       "[['Milk', 'Cheese'],\n",
       " ['Milk', 'Apples', 'Cheese'],\n",
       " ['Apples', 'Banana'],\n",
       " ['Milk', 'Cheese'],\n",
       " ['Apples', 'Banana'],\n",
       " ['Milk', 'Cheese', 'Banana'],\n",
       " ['Milk', 'Cheese'],\n",
       " ['Cheese', 'Banana'],\n",
       " ['Cheese', 'Milk']]"
      ]
     },
     "execution_count": 16,
     "metadata": {},
     "output_type": "execute_result"
    }
   ],
   "source": [
    "shop_one = [\n",
    "    ['milk', 'bread', 'eggs'],\n",
    "    ['milk', 'juice'],\n",
    "    ['juice', 'butter'],\n",
    "    ['milk', 'bread', 'eggs'],\n",
    "    ['coffee', 'eggs'],\n",
    "    ['coffee'],\n",
    "    ['coffee', 'juice'],\n",
    "    ['milk', 'bread', 'cookies', 'eggs'],\n",
    "    ['cookies', 'butter'],\n",
    "    ['milk', 'bread']\n",
    "]\n",
    "shop_two = [\n",
    "    ['Milk', 'Cheese'],\n",
    "    ['Milk', 'Apples', 'Cheese'],\n",
    "    ['Apples', 'Banana'],\n",
    "    ['Milk', 'Cheese'],\n",
    "    ['Apples', 'Banana'],\n",
    "    ['Milk', 'Cheese', 'Banana'],\n",
    "    ['Milk', 'Cheese'],\n",
    "    ['Cheese', 'Banana'],\n",
    "    ['Cheese', 'Milk']\n",
    "]\n",
    "shop_two"
   ]
  },
  {
   "cell_type": "code",
   "execution_count": 19,
   "id": "ee176807-32e1-44fb-8b44-13149516dcbb",
   "metadata": {},
   "outputs": [
    {
     "name": "stdout",
     "output_type": "stream",
     "text": [
      "[RelationRecord(items=frozenset({'bread', 'milk'}), support=0.4, ordered_statistics=[OrderedStatistic(items_base=frozenset({'bread'}), items_add=frozenset({'milk'}), confidence=1.0, lift=2.0), OrderedStatistic(items_base=frozenset({'milk'}), items_add=frozenset({'bread'}), confidence=0.8, lift=2.0)]), RelationRecord(items=frozenset({'bread', 'eggs', 'milk'}), support=0.3, ordered_statistics=[OrderedStatistic(items_base=frozenset({'bread', 'eggs'}), items_add=frozenset({'milk'}), confidence=1.0, lift=2.0), OrderedStatistic(items_base=frozenset({'eggs', 'milk'}), items_add=frozenset({'bread'}), confidence=1.0, lift=2.5)])]\n",
      "\n"
     ]
    },
    {
     "data": {
      "text/plain": [
       "[[['bread'], ['milk'], 0.4, 1.0, 2.0],\n",
       " [['milk'], ['bread'], 0.4, 0.8, 2.0],\n",
       " [['bread', 'eggs'], ['milk'], 0.3, 1.0, 2.0],\n",
       " [['eggs', 'milk'], ['bread'], 0.3, 1.0, 2.5]]"
      ]
     },
     "execution_count": 19,
     "metadata": {},
     "output_type": "execute_result"
    }
   ],
   "source": [
    "shop_one_rules = list(apriori(shop_one, min_support=0.2, min_confidence=0.8, max_length=3))\n",
    "print(shop_one_rules)\n",
    "shop_one_association_rules= ARutils.extract(shop_one_rules)\n",
    "print()\n",
    "shop_one_association_rules"
   ]
  },
  {
   "cell_type": "code",
   "execution_count": 21,
   "id": "ead0ff78-e572-49cd-941d-cce622e5ee88",
   "metadata": {},
   "outputs": [
    {
     "name": "stdout",
     "output_type": "stream",
     "text": [
      "[RelationRecord(items=frozenset({'Cheese', 'Milk'}), support=0.6666666666666666, ordered_statistics=[OrderedStatistic(items_base=frozenset({'Cheese'}), items_add=frozenset({'Milk'}), confidence=0.8571428571428571, lift=1.2857142857142858), OrderedStatistic(items_base=frozenset({'Milk'}), items_add=frozenset({'Cheese'}), confidence=1.0, lift=1.2857142857142856)])]\n",
      "\n"
     ]
    },
    {
     "data": {
      "text/plain": [
       "[[['Cheese'],\n",
       "  ['Milk'],\n",
       "  0.6666666666666666,\n",
       "  0.8571428571428571,\n",
       "  1.2857142857142858],\n",
       " [['Milk'], ['Cheese'], 0.6666666666666666, 1.0, 1.2857142857142856]]"
      ]
     },
     "execution_count": 21,
     "metadata": {},
     "output_type": "execute_result"
    }
   ],
   "source": [
    "shop_two_rules = list(apriori(shop_two, min_support=0.2, min_confidence=0.8))\n",
    "print(shop_two_rules)\n",
    "shop_two_association_rules= ARutils.extract(shop_two_rules)\n",
    "print()\n",
    "shop_two_association_rules"
   ]
  },
  {
   "cell_type": "code",
   "execution_count": null,
   "id": "9dd0b23b-c644-4c9f-b2f8-7a49a0324bf4",
   "metadata": {},
   "outputs": [],
   "source": []
  }
 ],
 "metadata": {
  "kernelspec": {
   "display_name": "env_ml_dl",
   "language": "python",
   "name": "env_ml_dl"
  },
  "language_info": {
   "codemirror_mode": {
    "name": "ipython",
    "version": 3
   },
   "file_extension": ".py",
   "mimetype": "text/x-python",
   "name": "python",
   "nbconvert_exporter": "python",
   "pygments_lexer": "ipython3",
   "version": "3.13.5"
  }
 },
 "nbformat": 4,
 "nbformat_minor": 5
}
