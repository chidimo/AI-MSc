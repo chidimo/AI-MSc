{
 "cells": [
  {
   "cell_type": "code",
   "execution_count": 2,
   "id": "bffaf1ca-f4be-40e8-9d4c-a9a255eadb60",
   "metadata": {},
   "outputs": [
    {
     "name": "stdout",
     "output_type": "stream",
     "text": [
      "TensorFlow version: 2.12.0\n"
     ]
    }
   ],
   "source": [
    "import tensorflow as tf\n",
    "print(\"TensorFlow version:\", tf.__version__)"
   ]
  },
  {
   "cell_type": "code",
   "execution_count": 3,
   "id": "c22c02e6-140a-480d-948b-33041f563795",
   "metadata": {},
   "outputs": [
    {
     "name": "stdout",
     "output_type": "stream",
     "text": [
      "<module 'keras.api._v2.keras.datasets.mnist' from '/opt/anaconda3/envs/DL4Denv/lib/python3.11/site-packages/keras/api/_v2/keras/datasets/mnist/__init__.py'>\n"
     ]
    }
   ],
   "source": [
    "dataset = tf.keras.datasets.mnist\n",
    "print(dataset)"
   ]
  },
  {
   "cell_type": "markdown",
   "id": "610583de-d5d9-44c2-81fd-21bf58b05229",
   "metadata": {},
   "source": [
    "### virtualenv workflow\n",
    "\n",
    "```bash\n",
    "    python3 -m pip install --user virtualenv\n",
    "    python3 -m virtualenv env_name # Create new virtual environment\n",
    "    source env_name/bin/activate # Activate the Virtual Environment\n",
    "    pip3 install jupyterlab notebook # Install Jupyter Notebook\n",
    "    python3 -m ipykernel install --user --name=env_name # Create a Jupyter Kernel\n",
    "    jupyter notebook # Start Jupyter Notebook\n",
    "```"
   ]
  },
  {
   "cell_type": "code",
   "execution_count": 5,
   "id": "ca99868a-a7c4-4d09-9f18-da6287b46983",
   "metadata": {},
   "outputs": [],
   "source": [
    "import numpy as np"
   ]
  },
  {
   "cell_type": "code",
   "execution_count": 11,
   "id": "745c56a3-1a2a-47e5-ad5d-18394446fd95",
   "metadata": {},
   "outputs": [
    {
     "name": "stdout",
     "output_type": "stream",
     "text": [
      "[[1 2 3]\n",
      " [4 5 6]\n",
      " [7 8 9]]\n",
      "----\n",
      "[[[1 2]\n",
      "  [3 4]]\n",
      "\n",
      " [[5 6]\n",
      "  [7 8]]]\n"
     ]
    }
   ],
   "source": [
    "my2D = np.array([\n",
    "    [1, 2, 3],\n",
    "    [4, 5, 6],\n",
    "    [7, 8, 9]\n",
    "])\n",
    "my3D = np.array([\n",
    "    [[1,2], [3,4]],\n",
    "    [[5,6], [7,8]]\n",
    "])\n",
    "print(my2D)\n",
    "print('----')\n",
    "print(my3D)"
   ]
  },
  {
   "cell_type": "code",
   "execution_count": 13,
   "id": "86a3de75-4d8a-4385-92c8-48ef224b9033",
   "metadata": {},
   "outputs": [
    {
     "name": "stdout",
     "output_type": "stream",
     "text": [
      "[[1 2 3]\n",
      " [4 5 6]\n",
      " [7 8 9]]\n"
     ]
    }
   ],
   "source": [
    "myMatrix = np.mat([[1,2,3], [4,5,6], [7,8,9]])\n",
    "print(myMatrix)"
   ]
  },
  {
   "cell_type": "code",
   "execution_count": null,
   "id": "167d4794-9470-4e8b-a04c-c7f97bb0a6ac",
   "metadata": {},
   "outputs": [],
   "source": []
  }
 ],
 "metadata": {
  "kernelspec": {
   "display_name": "Python 3 (ipykernel)",
   "language": "python",
   "name": "python3"
  },
  "language_info": {
   "codemirror_mode": {
    "name": "ipython",
    "version": 3
   },
   "file_extension": ".py",
   "mimetype": "text/x-python",
   "name": "python",
   "nbconvert_exporter": "python",
   "pygments_lexer": "ipython3",
   "version": "3.11.5"
  }
 },
 "nbformat": 4,
 "nbformat_minor": 5
}
