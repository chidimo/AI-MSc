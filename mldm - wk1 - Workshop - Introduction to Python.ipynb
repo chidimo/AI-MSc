{
 "cells": [
  {
   "cell_type": "markdown",
   "id": "9008c0dc-ccc4-4448-905a-db749dd94480",
   "metadata": {},
   "source": [
    "### This is a level 3 text heading"
   ]
  },
  {
   "cell_type": "raw",
   "id": "d32b8dd1-8e69-4795-8e62-b4a1d1a0e1bf",
   "metadata": {},
   "source": [
    "<html>\n",
    "<a href=\"https://www.salford.ac.uk\">Click here</a>\n",
    "</html"
   ]
  },
  {
   "cell_type": "code",
   "execution_count": 3,
   "id": "1215c4ea-893b-4d26-8928-6eb95ecf69cc",
   "metadata": {},
   "outputs": [
    {
     "name": "stdout",
     "output_type": "stream",
     "text": [
      "Hello World!\n"
     ]
    }
   ],
   "source": [
    "print('Hello World!')"
   ]
  },
  {
   "cell_type": "code",
   "execution_count": 5,
   "id": "9b4df5a3-7974-4750-b595-a550a529de23",
   "metadata": {},
   "outputs": [
    {
     "name": "stdout",
     "output_type": "stream",
     "text": [
      "a+b+c\n"
     ]
    }
   ],
   "source": [
    "print('a', 'b', 'c', sep='+')"
   ]
  },
  {
   "cell_type": "code",
   "execution_count": 6,
   "id": "5ef1ab6e-2427-492c-ace7-477bd5fadbe0",
   "metadata": {},
   "outputs": [
    {
     "name": "stdout",
     "output_type": "stream",
     "text": [
      "\n",
      "***********************************\n",
      "*                                 *\n",
      "*    Learning Python is Fun!!!    *\n",
      "*                                 *\n",
      "***********************************\n",
      "\n"
     ]
    }
   ],
   "source": [
    "print('''\n",
    "***********************************\n",
    "*                                 *\n",
    "*    Learning Python is Fun!!!    *\n",
    "*                                 *\n",
    "***********************************\n",
    "''')"
   ]
  },
  {
   "cell_type": "code",
   "execution_count": 8,
   "id": "ad7dcb48-6e28-4e71-8e89-5c9f6292c8f2",
   "metadata": {},
   "outputs": [
    {
     "name": "stdout",
     "output_type": "stream",
     "text": [
      "Area\n",
      "2\n",
      "3.14\n"
     ]
    }
   ],
   "source": [
    "msg = 'Area'\n",
    "r = 2\n",
    "pi = 3.14\n",
    "print(msg, r, pi, sep='\\n')"
   ]
  },
  {
   "cell_type": "markdown",
   "id": "44acd31d-636c-4a6a-9aac-1d7c3c73e309",
   "metadata": {},
   "source": [
    "# Numpy"
   ]
  },
  {
   "cell_type": "code",
   "execution_count": 3,
   "id": "865e4a36-cc8f-42be-8897-042c7538ac2a",
   "metadata": {},
   "outputs": [
    {
     "name": "stdout",
     "output_type": "stream",
     "text": [
      "[0 1 2 3 4 5]\n"
     ]
    }
   ],
   "source": [
    "import numpy as np\n",
    "import pandas as pd\n",
    "a = np.arange(6)\n",
    "print(a)"
   ]
  },
  {
   "cell_type": "code",
   "execution_count": null,
   "id": "a2575e2e-59e2-4103-b7a0-b8bc08212824",
   "metadata": {},
   "outputs": [],
   "source": []
  }
 ],
 "metadata": {
  "kernelspec": {
   "display_name": "Python [conda env:base] *",
   "language": "python",
   "name": "conda-base-py"
  },
  "language_info": {
   "codemirror_mode": {
    "name": "ipython",
    "version": 3
   },
   "file_extension": ".py",
   "mimetype": "text/x-python",
   "name": "python",
   "nbconvert_exporter": "python",
   "pygments_lexer": "ipython3",
   "version": "3.11.7"
  }
 },
 "nbformat": 4,
 "nbformat_minor": 5
}
