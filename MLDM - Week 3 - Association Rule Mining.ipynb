{
 "cells": [
  {
   "cell_type": "code",
   "execution_count": 1,
   "id": "d660072c-861d-4b14-89d0-0f4b92b2b744",
   "metadata": {},
   "outputs": [],
   "source": [
    "import matplotlib.pyplot as plt\n",
    "import pandas as pd\n",
    "from apyori import apriori\n",
    "import ARutils\n",
    "import plotly.express as px\n",
    "import plotly.io as pio\n",
    " \n",
    "%matplotlib inline"
   ]
  },
  {
   "cell_type": "code",
   "execution_count": 2,
   "id": "9756be94-6d35-44fb-a905-5c147bbdfa4b",
   "metadata": {},
   "outputs": [
    {
     "data": {
      "text/plain": [
       "[['Milk', 'Bread', 'Saffron'],\n",
       " ['Milk', 'Saffron'],\n",
       " ['Bread', 'Saffron', 'Wafer'],\n",
       " ['Bread', 'Wafer']]"
      ]
     },
     "execution_count": 2,
     "metadata": {},
     "output_type": "execute_result"
    }
   ],
   "source": [
    "transactions = [\n",
    "    ['Milk', 'Bread', 'Saffron'],\n",
    "    ['Milk', 'Saffron'],\n",
    "    ['Bread', 'Saffron', 'Wafer'],\n",
    "    ['Bread', 'Wafer'],\n",
    "]\n",
    "transactions"
   ]
  },
  {
   "cell_type": "code",
   "execution_count": 3,
   "id": "afef8dfd",
   "metadata": {},
   "outputs": [],
   "source": [
    "transaction_rules = list(apriori(transactions, min_support=0.2, min_confidence=0.5))\n",
    "# for idx, rule in enumerate(transaction_rules):\n",
    "#     print(f'Rule {idx}: {rule}', end='\\n\\n')"
   ]
  },
  {
   "cell_type": "code",
   "execution_count": 4,
   "id": "17ab43fb",
   "metadata": {},
   "outputs": [
    {
     "data": {
      "text/html": [
       "<div>\n",
       "<style scoped>\n",
       "    .dataframe tbody tr th:only-of-type {\n",
       "        vertical-align: middle;\n",
       "    }\n",
       "\n",
       "    .dataframe tbody tr th {\n",
       "        vertical-align: top;\n",
       "    }\n",
       "\n",
       "    .dataframe thead th {\n",
       "        text-align: right;\n",
       "    }\n",
       "</style>\n",
       "<table border=\"1\" class=\"dataframe\">\n",
       "  <thead>\n",
       "    <tr style=\"text-align: right;\">\n",
       "      <th></th>\n",
       "      <th>LHS</th>\n",
       "      <th>RHS</th>\n",
       "      <th>Support</th>\n",
       "      <th>Confidence</th>\n",
       "      <th>Lift</th>\n",
       "    </tr>\n",
       "  </thead>\n",
       "  <tbody>\n",
       "    <tr>\n",
       "      <th>0</th>\n",
       "      <td>[]</td>\n",
       "      <td>[Bread]</td>\n",
       "      <td>0.75</td>\n",
       "      <td>0.750000</td>\n",
       "      <td>1.000000</td>\n",
       "    </tr>\n",
       "    <tr>\n",
       "      <th>1</th>\n",
       "      <td>[]</td>\n",
       "      <td>[Milk]</td>\n",
       "      <td>0.50</td>\n",
       "      <td>0.500000</td>\n",
       "      <td>1.000000</td>\n",
       "    </tr>\n",
       "    <tr>\n",
       "      <th>2</th>\n",
       "      <td>[]</td>\n",
       "      <td>[Saffron]</td>\n",
       "      <td>0.75</td>\n",
       "      <td>0.750000</td>\n",
       "      <td>1.000000</td>\n",
       "    </tr>\n",
       "    <tr>\n",
       "      <th>3</th>\n",
       "      <td>[]</td>\n",
       "      <td>[Wafer]</td>\n",
       "      <td>0.50</td>\n",
       "      <td>0.500000</td>\n",
       "      <td>1.000000</td>\n",
       "    </tr>\n",
       "    <tr>\n",
       "      <th>4</th>\n",
       "      <td>[Milk]</td>\n",
       "      <td>[Bread]</td>\n",
       "      <td>0.25</td>\n",
       "      <td>0.500000</td>\n",
       "      <td>0.666667</td>\n",
       "    </tr>\n",
       "    <tr>\n",
       "      <th>5</th>\n",
       "      <td>[]</td>\n",
       "      <td>[Bread, Saffron]</td>\n",
       "      <td>0.50</td>\n",
       "      <td>0.500000</td>\n",
       "      <td>1.000000</td>\n",
       "    </tr>\n",
       "    <tr>\n",
       "      <th>6</th>\n",
       "      <td>[Bread]</td>\n",
       "      <td>[Saffron]</td>\n",
       "      <td>0.50</td>\n",
       "      <td>0.666667</td>\n",
       "      <td>0.888889</td>\n",
       "    </tr>\n",
       "    <tr>\n",
       "      <th>7</th>\n",
       "      <td>[Saffron]</td>\n",
       "      <td>[Bread]</td>\n",
       "      <td>0.50</td>\n",
       "      <td>0.666667</td>\n",
       "      <td>0.888889</td>\n",
       "    </tr>\n",
       "    <tr>\n",
       "      <th>8</th>\n",
       "      <td>[]</td>\n",
       "      <td>[Bread, Wafer]</td>\n",
       "      <td>0.50</td>\n",
       "      <td>0.500000</td>\n",
       "      <td>1.000000</td>\n",
       "    </tr>\n",
       "    <tr>\n",
       "      <th>9</th>\n",
       "      <td>[Bread]</td>\n",
       "      <td>[Wafer]</td>\n",
       "      <td>0.50</td>\n",
       "      <td>0.666667</td>\n",
       "      <td>1.333333</td>\n",
       "    </tr>\n",
       "    <tr>\n",
       "      <th>10</th>\n",
       "      <td>[Wafer]</td>\n",
       "      <td>[Bread]</td>\n",
       "      <td>0.50</td>\n",
       "      <td>1.000000</td>\n",
       "      <td>1.333333</td>\n",
       "    </tr>\n",
       "    <tr>\n",
       "      <th>11</th>\n",
       "      <td>[]</td>\n",
       "      <td>[Milk, Saffron]</td>\n",
       "      <td>0.50</td>\n",
       "      <td>0.500000</td>\n",
       "      <td>1.000000</td>\n",
       "    </tr>\n",
       "    <tr>\n",
       "      <th>12</th>\n",
       "      <td>[Milk]</td>\n",
       "      <td>[Saffron]</td>\n",
       "      <td>0.50</td>\n",
       "      <td>1.000000</td>\n",
       "      <td>1.333333</td>\n",
       "    </tr>\n",
       "    <tr>\n",
       "      <th>13</th>\n",
       "      <td>[Saffron]</td>\n",
       "      <td>[Milk]</td>\n",
       "      <td>0.50</td>\n",
       "      <td>0.666667</td>\n",
       "      <td>1.333333</td>\n",
       "    </tr>\n",
       "    <tr>\n",
       "      <th>14</th>\n",
       "      <td>[Wafer]</td>\n",
       "      <td>[Saffron]</td>\n",
       "      <td>0.25</td>\n",
       "      <td>0.500000</td>\n",
       "      <td>0.666667</td>\n",
       "    </tr>\n",
       "    <tr>\n",
       "      <th>15</th>\n",
       "      <td>[Milk]</td>\n",
       "      <td>[Bread, Saffron]</td>\n",
       "      <td>0.25</td>\n",
       "      <td>0.500000</td>\n",
       "      <td>1.000000</td>\n",
       "    </tr>\n",
       "    <tr>\n",
       "      <th>16</th>\n",
       "      <td>[Bread, Milk]</td>\n",
       "      <td>[Saffron]</td>\n",
       "      <td>0.25</td>\n",
       "      <td>1.000000</td>\n",
       "      <td>1.333333</td>\n",
       "    </tr>\n",
       "    <tr>\n",
       "      <th>17</th>\n",
       "      <td>[Bread, Saffron]</td>\n",
       "      <td>[Milk]</td>\n",
       "      <td>0.25</td>\n",
       "      <td>0.500000</td>\n",
       "      <td>1.000000</td>\n",
       "    </tr>\n",
       "    <tr>\n",
       "      <th>18</th>\n",
       "      <td>[Milk, Saffron]</td>\n",
       "      <td>[Bread]</td>\n",
       "      <td>0.25</td>\n",
       "      <td>0.500000</td>\n",
       "      <td>0.666667</td>\n",
       "    </tr>\n",
       "    <tr>\n",
       "      <th>19</th>\n",
       "      <td>[Wafer]</td>\n",
       "      <td>[Bread, Saffron]</td>\n",
       "      <td>0.25</td>\n",
       "      <td>0.500000</td>\n",
       "      <td>1.000000</td>\n",
       "    </tr>\n",
       "    <tr>\n",
       "      <th>20</th>\n",
       "      <td>[Bread, Saffron]</td>\n",
       "      <td>[Wafer]</td>\n",
       "      <td>0.25</td>\n",
       "      <td>0.500000</td>\n",
       "      <td>1.000000</td>\n",
       "    </tr>\n",
       "    <tr>\n",
       "      <th>21</th>\n",
       "      <td>[Bread, Wafer]</td>\n",
       "      <td>[Saffron]</td>\n",
       "      <td>0.25</td>\n",
       "      <td>0.500000</td>\n",
       "      <td>0.666667</td>\n",
       "    </tr>\n",
       "    <tr>\n",
       "      <th>22</th>\n",
       "      <td>[Saffron, Wafer]</td>\n",
       "      <td>[Bread]</td>\n",
       "      <td>0.25</td>\n",
       "      <td>1.000000</td>\n",
       "      <td>1.333333</td>\n",
       "    </tr>\n",
       "  </tbody>\n",
       "</table>\n",
       "</div>"
      ],
      "text/plain": [
       "                 LHS               RHS  Support  Confidence      Lift\n",
       "0                 []           [Bread]     0.75    0.750000  1.000000\n",
       "1                 []            [Milk]     0.50    0.500000  1.000000\n",
       "2                 []         [Saffron]     0.75    0.750000  1.000000\n",
       "3                 []           [Wafer]     0.50    0.500000  1.000000\n",
       "4             [Milk]           [Bread]     0.25    0.500000  0.666667\n",
       "5                 []  [Bread, Saffron]     0.50    0.500000  1.000000\n",
       "6            [Bread]         [Saffron]     0.50    0.666667  0.888889\n",
       "7          [Saffron]           [Bread]     0.50    0.666667  0.888889\n",
       "8                 []    [Bread, Wafer]     0.50    0.500000  1.000000\n",
       "9            [Bread]           [Wafer]     0.50    0.666667  1.333333\n",
       "10           [Wafer]           [Bread]     0.50    1.000000  1.333333\n",
       "11                []   [Milk, Saffron]     0.50    0.500000  1.000000\n",
       "12            [Milk]         [Saffron]     0.50    1.000000  1.333333\n",
       "13         [Saffron]            [Milk]     0.50    0.666667  1.333333\n",
       "14           [Wafer]         [Saffron]     0.25    0.500000  0.666667\n",
       "15            [Milk]  [Bread, Saffron]     0.25    0.500000  1.000000\n",
       "16     [Bread, Milk]         [Saffron]     0.25    1.000000  1.333333\n",
       "17  [Bread, Saffron]            [Milk]     0.25    0.500000  1.000000\n",
       "18   [Milk, Saffron]           [Bread]     0.25    0.500000  0.666667\n",
       "19           [Wafer]  [Bread, Saffron]     0.25    0.500000  1.000000\n",
       "20  [Bread, Saffron]           [Wafer]     0.25    0.500000  1.000000\n",
       "21    [Bread, Wafer]         [Saffron]     0.25    0.500000  0.666667\n",
       "22  [Saffron, Wafer]           [Bread]     0.25    1.000000  1.333333"
      ]
     },
     "execution_count": 4,
     "metadata": {},
     "output_type": "execute_result"
    }
   ],
   "source": [
    "transaction_assc_rules = ARutils.extract(transaction_rules)\n",
    "\n",
    "rules_df = pd.DataFrame(transaction_assc_rules, columns=['LHS', 'RHS', 'Support', 'Confidence', 'Lift'])\n",
    "rules_df"
   ]
  },
  {
   "cell_type": "code",
   "execution_count": 5,
   "id": "179aeb1a-a5a7-4875-8479-4524075d9a2e",
   "metadata": {},
   "outputs": [
    {
     "name": "stdout",
     "output_type": "stream",
     "text": [
      "The number of associated rules: 23\n",
      "LHS: [] --> RHS:['Bread'], support: 0.75, confidence: 0.75, lift: 1.00\n",
      "--------------------------------------------------------------------------------\n",
      "LHS: [] --> RHS:['Milk'], support: 0.50, confidence: 0.50, lift: 1.00\n",
      "--------------------------------------------------------------------------------\n",
      "LHS: [] --> RHS:['Saffron'], support: 0.75, confidence: 0.75, lift: 1.00\n",
      "--------------------------------------------------------------------------------\n",
      "LHS: [] --> RHS:['Wafer'], support: 0.50, confidence: 0.50, lift: 1.00\n",
      "--------------------------------------------------------------------------------\n",
      "LHS: ['Milk'] --> RHS:['Bread'], support: 0.25, confidence: 0.50, lift: 0.67\n",
      "--------------------------------------------------------------------------------\n",
      "LHS: [] --> RHS:['Bread', 'Saffron'], support: 0.50, confidence: 0.50, lift: 1.00\n",
      "--------------------------------------------------------------------------------\n",
      "LHS: ['Bread'] --> RHS:['Saffron'], support: 0.50, confidence: 0.67, lift: 0.89\n",
      "--------------------------------------------------------------------------------\n",
      "LHS: ['Saffron'] --> RHS:['Bread'], support: 0.50, confidence: 0.67, lift: 0.89\n",
      "--------------------------------------------------------------------------------\n",
      "LHS: [] --> RHS:['Bread', 'Wafer'], support: 0.50, confidence: 0.50, lift: 1.00\n",
      "--------------------------------------------------------------------------------\n",
      "LHS: ['Bread'] --> RHS:['Wafer'], support: 0.50, confidence: 0.67, lift: 1.33\n",
      "--------------------------------------------------------------------------------\n",
      "LHS: ['Wafer'] --> RHS:['Bread'], support: 0.50, confidence: 1.00, lift: 1.33\n",
      "--------------------------------------------------------------------------------\n",
      "LHS: [] --> RHS:['Milk', 'Saffron'], support: 0.50, confidence: 0.50, lift: 1.00\n",
      "--------------------------------------------------------------------------------\n",
      "LHS: ['Milk'] --> RHS:['Saffron'], support: 0.50, confidence: 1.00, lift: 1.33\n",
      "--------------------------------------------------------------------------------\n",
      "LHS: ['Saffron'] --> RHS:['Milk'], support: 0.50, confidence: 0.67, lift: 1.33\n",
      "--------------------------------------------------------------------------------\n",
      "LHS: ['Wafer'] --> RHS:['Saffron'], support: 0.25, confidence: 0.50, lift: 0.67\n",
      "--------------------------------------------------------------------------------\n",
      "LHS: ['Milk'] --> RHS:['Bread', 'Saffron'], support: 0.25, confidence: 0.50, lift: 1.00\n",
      "--------------------------------------------------------------------------------\n",
      "LHS: ['Bread', 'Milk'] --> RHS:['Saffron'], support: 0.25, confidence: 1.00, lift: 1.33\n",
      "--------------------------------------------------------------------------------\n",
      "LHS: ['Bread', 'Saffron'] --> RHS:['Milk'], support: 0.25, confidence: 0.50, lift: 1.00\n",
      "--------------------------------------------------------------------------------\n",
      "LHS: ['Milk', 'Saffron'] --> RHS:['Bread'], support: 0.25, confidence: 0.50, lift: 0.67\n",
      "--------------------------------------------------------------------------------\n",
      "LHS: ['Wafer'] --> RHS:['Bread', 'Saffron'], support: 0.25, confidence: 0.50, lift: 1.00\n",
      "--------------------------------------------------------------------------------\n",
      "LHS: ['Bread', 'Saffron'] --> RHS:['Wafer'], support: 0.25, confidence: 0.50, lift: 1.00\n",
      "--------------------------------------------------------------------------------\n",
      "LHS: ['Bread', 'Wafer'] --> RHS:['Saffron'], support: 0.25, confidence: 0.50, lift: 0.67\n",
      "--------------------------------------------------------------------------------\n",
      "LHS: ['Saffron', 'Wafer'] --> RHS:['Bread'], support: 0.25, confidence: 1.00, lift: 1.33\n",
      "--------------------------------------------------------------------------------\n"
     ]
    }
   ],
   "source": [
    "ARutils.inspect(transaction_assc_rules)"
   ]
  },
  {
   "cell_type": "code",
   "execution_count": 6,
   "id": "7843aea9-238f-4c17-be73-eaf16160bbf1",
   "metadata": {},
   "outputs": [
    {
     "data": {
      "text/html": [
       "<div>\n",
       "<style scoped>\n",
       "    .dataframe tbody tr th:only-of-type {\n",
       "        vertical-align: middle;\n",
       "    }\n",
       "\n",
       "    .dataframe tbody tr th {\n",
       "        vertical-align: top;\n",
       "    }\n",
       "\n",
       "    .dataframe thead th {\n",
       "        text-align: right;\n",
       "    }\n",
       "</style>\n",
       "<table border=\"1\" class=\"dataframe\">\n",
       "  <thead>\n",
       "    <tr style=\"text-align: right;\">\n",
       "      <th></th>\n",
       "      <th>apples</th>\n",
       "      <th>banana</th>\n",
       "      <th>coke</th>\n",
       "      <th>turkey</th>\n",
       "      <th>bourbon</th>\n",
       "      <th>ice_cream</th>\n",
       "      <th>baguette</th>\n",
       "      <th>soda</th>\n",
       "      <th>choclate</th>\n",
       "      <th>cracker</th>\n",
       "      <th>cosmetics</th>\n",
       "      <th>avocado</th>\n",
       "      <th>artichoke</th>\n",
       "      <th>sardines</th>\n",
       "    </tr>\n",
       "  </thead>\n",
       "  <tbody>\n",
       "    <tr>\n",
       "      <th>count</th>\n",
       "      <td>1000</td>\n",
       "      <td>1000</td>\n",
       "      <td>1000</td>\n",
       "      <td>1000</td>\n",
       "      <td>1000</td>\n",
       "      <td>1000</td>\n",
       "      <td>1000</td>\n",
       "      <td>1000</td>\n",
       "      <td>1000</td>\n",
       "      <td>1000</td>\n",
       "      <td>1000</td>\n",
       "      <td>1000</td>\n",
       "      <td>1000</td>\n",
       "      <td>1000</td>\n",
       "    </tr>\n",
       "    <tr>\n",
       "      <th>unique</th>\n",
       "      <td>2</td>\n",
       "      <td>2</td>\n",
       "      <td>2</td>\n",
       "      <td>2</td>\n",
       "      <td>2</td>\n",
       "      <td>2</td>\n",
       "      <td>2</td>\n",
       "      <td>2</td>\n",
       "      <td>2</td>\n",
       "      <td>2</td>\n",
       "      <td>2</td>\n",
       "      <td>2</td>\n",
       "      <td>2</td>\n",
       "      <td>2</td>\n",
       "    </tr>\n",
       "    <tr>\n",
       "      <th>top</th>\n",
       "      <td>No</td>\n",
       "      <td>No</td>\n",
       "      <td>No</td>\n",
       "      <td>No</td>\n",
       "      <td>No</td>\n",
       "      <td>No</td>\n",
       "      <td>No</td>\n",
       "      <td>No</td>\n",
       "      <td>No</td>\n",
       "      <td>No</td>\n",
       "      <td>Yes</td>\n",
       "      <td>No</td>\n",
       "      <td>No</td>\n",
       "      <td>No</td>\n",
       "    </tr>\n",
       "    <tr>\n",
       "      <th>freq</th>\n",
       "      <td>946</td>\n",
       "      <td>637</td>\n",
       "      <td>720</td>\n",
       "      <td>851</td>\n",
       "      <td>558</td>\n",
       "      <td>958</td>\n",
       "      <td>721</td>\n",
       "      <td>766</td>\n",
       "      <td>643</td>\n",
       "      <td>619</td>\n",
       "      <td>536</td>\n",
       "      <td>510</td>\n",
       "      <td>678</td>\n",
       "      <td>543</td>\n",
       "    </tr>\n",
       "  </tbody>\n",
       "</table>\n",
       "</div>"
      ],
      "text/plain": [
       "       apples banana  coke turkey bourbon ice_cream baguette  soda choclate  \\\n",
       "count    1000   1000  1000   1000    1000      1000     1000  1000     1000   \n",
       "unique      2      2     2      2       2         2        2     2        2   \n",
       "top        No     No    No     No      No        No       No    No       No   \n",
       "freq      946    637   720    851     558       958      721   766      643   \n",
       "\n",
       "       cracker cosmetics avocado artichoke sardines  \n",
       "count     1000      1000    1000      1000     1000  \n",
       "unique       2         2       2         2        2  \n",
       "top         No       Yes      No        No       No  \n",
       "freq       619       536     510       678      543  "
      ]
     },
     "execution_count": 6,
     "metadata": {},
     "output_type": "execute_result"
    }
   ],
   "source": [
    "store_data = pd.read_csv('marketbasket.csv')\n",
    "store_data.describe()"
   ]
  },
  {
   "cell_type": "code",
   "execution_count": 7,
   "id": "3a893d10-27af-4965-8173-105b13a92bd5",
   "metadata": {},
   "outputs": [
    {
     "data": {
      "image/png": "[encoded data removed]",
      "text/plain": [
       "<Figure size 640x480 with 1 Axes>"
      ]
     },
     "metadata": {},
     "output_type": "display_data"
    }
   ],
   "source": [
    "yes = (store_data == 'Yes').sum()\n",
    "no = (store_data == 'No').sum()\n",
    "purchased = pd.concat([yes, no], axis=1, keys=['yes', 'no'])\n",
    "# print(purchased, type(purchased))\n",
    "# print(no, list(no))\n",
    "ax = yes.plot.bar()\n",
    "plt.show()"
   ]
  },
  {
   "cell_type": "code",
   "execution_count": 19,
   "id": "6d5f8202-7e6c-4190-8ed3-2648a25174cd",
   "metadata": {},
   "outputs": [],
   "source": [
    "store_transactions = ARutils.data_prepare(store_data)\n",
    "# for each in store_transactions:\n",
    "#     print(each)"
   ]
  },
  {
   "cell_type": "code",
   "execution_count": 20,
   "id": "2e154941-67f3-47fa-af5d-d8a726db296c",
   "metadata": {},
   "outputs": [
    {
     "name": "stdout",
     "output_type": "stream",
     "text": [
      "store_rules has 1460 rules\n",
      "store_assc_rules has 27348 rules\n"
     ]
    },
    {
     "data": {
      "text/html": [
       "<div>\n",
       "<style scoped>\n",
       "    .dataframe tbody tr th:only-of-type {\n",
       "        vertical-align: middle;\n",
       "    }\n",
       "\n",
       "    .dataframe tbody tr th {\n",
       "        vertical-align: top;\n",
       "    }\n",
       "\n",
       "    .dataframe thead th {\n",
       "        text-align: right;\n",
       "    }\n",
       "</style>\n",
       "<table border=\"1\" class=\"dataframe\">\n",
       "  <thead>\n",
       "    <tr style=\"text-align: right;\">\n",
       "      <th></th>\n",
       "      <th>LHS</th>\n",
       "      <th>RHS</th>\n",
       "      <th>Support</th>\n",
       "      <th>Confidence</th>\n",
       "      <th>Lift</th>\n",
       "    </tr>\n",
       "  </thead>\n",
       "  <tbody>\n",
       "    <tr>\n",
       "      <th>0</th>\n",
       "      <td>[]</td>\n",
       "      <td>[artichoke]</td>\n",
       "      <td>0.322</td>\n",
       "      <td>0.322000</td>\n",
       "      <td>1.000000</td>\n",
       "    </tr>\n",
       "    <tr>\n",
       "      <th>1</th>\n",
       "      <td>[]</td>\n",
       "      <td>[avocado]</td>\n",
       "      <td>0.490</td>\n",
       "      <td>0.490000</td>\n",
       "      <td>1.000000</td>\n",
       "    </tr>\n",
       "    <tr>\n",
       "      <th>2</th>\n",
       "      <td>[]</td>\n",
       "      <td>[baguette]</td>\n",
       "      <td>0.279</td>\n",
       "      <td>0.279000</td>\n",
       "      <td>1.000000</td>\n",
       "    </tr>\n",
       "    <tr>\n",
       "      <th>3</th>\n",
       "      <td>[]</td>\n",
       "      <td>[banana]</td>\n",
       "      <td>0.363</td>\n",
       "      <td>0.363000</td>\n",
       "      <td>1.000000</td>\n",
       "    </tr>\n",
       "    <tr>\n",
       "      <th>4</th>\n",
       "      <td>[]</td>\n",
       "      <td>[bourbon]</td>\n",
       "      <td>0.442</td>\n",
       "      <td>0.442000</td>\n",
       "      <td>1.000000</td>\n",
       "    </tr>\n",
       "    <tr>\n",
       "      <th>...</th>\n",
       "      <td>...</td>\n",
       "      <td>...</td>\n",
       "      <td>...</td>\n",
       "      <td>...</td>\n",
       "      <td>...</td>\n",
       "    </tr>\n",
       "    <tr>\n",
       "      <th>27343</th>\n",
       "      <td>[soda, choclate, baguette, bourbon, turkey, co...</td>\n",
       "      <td>[cracker]</td>\n",
       "      <td>0.021</td>\n",
       "      <td>0.840000</td>\n",
       "      <td>2.204724</td>\n",
       "    </tr>\n",
       "    <tr>\n",
       "      <th>27344</th>\n",
       "      <td>[soda, choclate, baguette, bourbon, turkey, sa...</td>\n",
       "      <td>[coke]</td>\n",
       "      <td>0.021</td>\n",
       "      <td>1.000000</td>\n",
       "      <td>3.571429</td>\n",
       "    </tr>\n",
       "    <tr>\n",
       "      <th>27345</th>\n",
       "      <td>[soda, baguette, bourbon, turkey, coke, sardin...</td>\n",
       "      <td>[choclate]</td>\n",
       "      <td>0.021</td>\n",
       "      <td>0.954545</td>\n",
       "      <td>2.673797</td>\n",
       "    </tr>\n",
       "    <tr>\n",
       "      <th>27346</th>\n",
       "      <td>[soda, choclate, baguette, turkey, coke, sardi...</td>\n",
       "      <td>[bourbon]</td>\n",
       "      <td>0.021</td>\n",
       "      <td>1.000000</td>\n",
       "      <td>2.262443</td>\n",
       "    </tr>\n",
       "    <tr>\n",
       "      <th>27347</th>\n",
       "      <td>[soda, choclate, bourbon, turkey, coke, sardin...</td>\n",
       "      <td>[baguette]</td>\n",
       "      <td>0.021</td>\n",
       "      <td>0.954545</td>\n",
       "      <td>3.421310</td>\n",
       "    </tr>\n",
       "  </tbody>\n",
       "</table>\n",
       "<p>27348 rows × 5 columns</p>\n",
       "</div>"
      ],
      "text/plain": [
       "                                                     LHS          RHS  \\\n",
       "0                                                     []  [artichoke]   \n",
       "1                                                     []    [avocado]   \n",
       "2                                                     []   [baguette]   \n",
       "3                                                     []     [banana]   \n",
       "4                                                     []    [bourbon]   \n",
       "...                                                  ...          ...   \n",
       "27343  [soda, choclate, baguette, bourbon, turkey, co...    [cracker]   \n",
       "27344  [soda, choclate, baguette, bourbon, turkey, sa...       [coke]   \n",
       "27345  [soda, baguette, bourbon, turkey, coke, sardin...   [choclate]   \n",
       "27346  [soda, choclate, baguette, turkey, coke, sardi...    [bourbon]   \n",
       "27347  [soda, choclate, bourbon, turkey, coke, sardin...   [baguette]   \n",
       "\n",
       "       Support  Confidence      Lift  \n",
       "0        0.322    0.322000  1.000000  \n",
       "1        0.490    0.490000  1.000000  \n",
       "2        0.279    0.279000  1.000000  \n",
       "3        0.363    0.363000  1.000000  \n",
       "4        0.442    0.442000  1.000000  \n",
       "...        ...         ...       ...  \n",
       "27343    0.021    0.840000  2.204724  \n",
       "27344    0.021    1.000000  3.571429  \n",
       "27345    0.021    0.954545  2.673797  \n",
       "27346    0.021    1.000000  2.262443  \n",
       "27347    0.021    0.954545  3.421310  \n",
       "\n",
       "[27348 rows x 5 columns]"
      ]
     },
     "execution_count": 20,
     "metadata": {},
     "output_type": "execute_result"
    }
   ],
   "source": [
    "store_rules = list(apriori(store_transactions, min_support=0.02, min_confidence=0.2))\n",
    "store_assc_rules = ARutils.extract(store_rules)\n",
    "print(f'store_rules has {len(store_rules)} rules')\n",
    "print(f'store_assc_rules has {len(store_assc_rules)} rules')\n",
    "\n",
    "df = pd.DataFrame(store_assc_rules, columns=['LHS', 'RHS', 'Support', 'Confidence', 'Lift'])\n",
    "df"
   ]
  },
  {
   "cell_type": "code",
   "execution_count": 10,
   "id": "7ab51388",
   "metadata": {},
   "outputs": [
    {
     "data": {
      "text/html": [
       "<div>\n",
       "<style scoped>\n",
       "    .dataframe tbody tr th:only-of-type {\n",
       "        vertical-align: middle;\n",
       "    }\n",
       "\n",
       "    .dataframe tbody tr th {\n",
       "        vertical-align: top;\n",
       "    }\n",
       "\n",
       "    .dataframe thead th {\n",
       "        text-align: right;\n",
       "    }\n",
       "</style>\n",
       "<table border=\"1\" class=\"dataframe\">\n",
       "  <thead>\n",
       "    <tr style=\"text-align: right;\">\n",
       "      <th></th>\n",
       "      <th>LHS</th>\n",
       "      <th>RHS</th>\n",
       "      <th>Support</th>\n",
       "      <th>Confidence</th>\n",
       "      <th>Lift</th>\n",
       "    </tr>\n",
       "  </thead>\n",
       "  <tbody>\n",
       "    <tr>\n",
       "      <th>26986</th>\n",
       "      <td>[choclate, bourbon, baguette, coke]</td>\n",
       "      <td>[soda, banana, cracker, turkey]</td>\n",
       "      <td>0.022</td>\n",
       "      <td>0.400000</td>\n",
       "      <td>16.666667</td>\n",
       "    </tr>\n",
       "    <tr>\n",
       "      <th>27024</th>\n",
       "      <td>[soda, banana, cracker, turkey]</td>\n",
       "      <td>[choclate, baguette, bourbon, coke]</td>\n",
       "      <td>0.022</td>\n",
       "      <td>0.916667</td>\n",
       "      <td>16.666667</td>\n",
       "    </tr>\n",
       "    <tr>\n",
       "      <th>26990</th>\n",
       "      <td>[bourbon, baguette, cracker, coke]</td>\n",
       "      <td>[banana, soda, choclate, turkey]</td>\n",
       "      <td>0.022</td>\n",
       "      <td>0.423077</td>\n",
       "      <td>16.272189</td>\n",
       "    </tr>\n",
       "    <tr>\n",
       "      <th>27020</th>\n",
       "      <td>[choclate, soda, banana, turkey]</td>\n",
       "      <td>[bourbon, baguette, cracker, coke]</td>\n",
       "      <td>0.022</td>\n",
       "      <td>0.846154</td>\n",
       "      <td>16.272189</td>\n",
       "    </tr>\n",
       "    <tr>\n",
       "      <th>27212</th>\n",
       "      <td>[sardines, baguette, cracker, coke]</td>\n",
       "      <td>[soda, choclate, bourbon, turkey]</td>\n",
       "      <td>0.021</td>\n",
       "      <td>0.552632</td>\n",
       "      <td>16.253870</td>\n",
       "    </tr>\n",
       "    <tr>\n",
       "      <th>27230</th>\n",
       "      <td>[soda, choclate, bourbon, turkey]</td>\n",
       "      <td>[sardines, baguette, cracker, coke]</td>\n",
       "      <td>0.021</td>\n",
       "      <td>0.617647</td>\n",
       "      <td>16.253870</td>\n",
       "    </tr>\n",
       "    <tr>\n",
       "      <th>27013</th>\n",
       "      <td>[banana, bourbon, cracker, turkey]</td>\n",
       "      <td>[soda, choclate, baguette, coke]</td>\n",
       "      <td>0.022</td>\n",
       "      <td>0.647059</td>\n",
       "      <td>16.176471</td>\n",
       "    </tr>\n",
       "    <tr>\n",
       "      <th>26997</th>\n",
       "      <td>[soda, choclate, baguette, coke]</td>\n",
       "      <td>[banana, bourbon, cracker, turkey]</td>\n",
       "      <td>0.022</td>\n",
       "      <td>0.550000</td>\n",
       "      <td>16.176471</td>\n",
       "    </tr>\n",
       "    <tr>\n",
       "      <th>27176</th>\n",
       "      <td>[soda, choclate, turkey]</td>\n",
       "      <td>[baguette, bourbon, coke, sardines, cracker]</td>\n",
       "      <td>0.021</td>\n",
       "      <td>0.552632</td>\n",
       "      <td>15.789474</td>\n",
       "    </tr>\n",
       "    <tr>\n",
       "      <th>27266</th>\n",
       "      <td>[baguette, bourbon, coke, sardines, cracker]</td>\n",
       "      <td>[soda, choclate, turkey]</td>\n",
       "      <td>0.021</td>\n",
       "      <td>0.600000</td>\n",
       "      <td>15.789474</td>\n",
       "    </tr>\n",
       "  </tbody>\n",
       "</table>\n",
       "</div>"
      ],
      "text/plain": [
       "                                                LHS  \\\n",
       "26986           [choclate, bourbon, baguette, coke]   \n",
       "27024               [soda, banana, cracker, turkey]   \n",
       "26990            [bourbon, baguette, cracker, coke]   \n",
       "27020              [choclate, soda, banana, turkey]   \n",
       "27212           [sardines, baguette, cracker, coke]   \n",
       "27230             [soda, choclate, bourbon, turkey]   \n",
       "27013            [banana, bourbon, cracker, turkey]   \n",
       "26997              [soda, choclate, baguette, coke]   \n",
       "27176                      [soda, choclate, turkey]   \n",
       "27266  [baguette, bourbon, coke, sardines, cracker]   \n",
       "\n",
       "                                                RHS  Support  Confidence  \\\n",
       "26986               [soda, banana, cracker, turkey]    0.022    0.400000   \n",
       "27024           [choclate, baguette, bourbon, coke]    0.022    0.916667   \n",
       "26990              [banana, soda, choclate, turkey]    0.022    0.423077   \n",
       "27020            [bourbon, baguette, cracker, coke]    0.022    0.846154   \n",
       "27212             [soda, choclate, bourbon, turkey]    0.021    0.552632   \n",
       "27230           [sardines, baguette, cracker, coke]    0.021    0.617647   \n",
       "27013              [soda, choclate, baguette, coke]    0.022    0.647059   \n",
       "26997            [banana, bourbon, cracker, turkey]    0.022    0.550000   \n",
       "27176  [baguette, bourbon, coke, sardines, cracker]    0.021    0.552632   \n",
       "27266                      [soda, choclate, turkey]    0.021    0.600000   \n",
       "\n",
       "            Lift  \n",
       "26986  16.666667  \n",
       "27024  16.666667  \n",
       "26990  16.272189  \n",
       "27020  16.272189  \n",
       "27212  16.253870  \n",
       "27230  16.253870  \n",
       "27013  16.176471  \n",
       "26997  16.176471  \n",
       "27176  15.789474  \n",
       "27266  15.789474  "
      ]
     },
     "execution_count": 10,
     "metadata": {},
     "output_type": "execute_result"
    }
   ],
   "source": [
    "df.nlargest(10, 'Lift')"
   ]
  },
  {
   "cell_type": "code",
   "execution_count": 11,
   "id": "89c16f7b",
   "metadata": {},
   "outputs": [
    {
     "data": {
      "text/html": [
       "<div>\n",
       "<style scoped>\n",
       "    .dataframe tbody tr th:only-of-type {\n",
       "        vertical-align: middle;\n",
       "    }\n",
       "\n",
       "    .dataframe tbody tr th {\n",
       "        vertical-align: top;\n",
       "    }\n",
       "\n",
       "    .dataframe thead th {\n",
       "        text-align: right;\n",
       "    }\n",
       "</style>\n",
       "<table border=\"1\" class=\"dataframe\">\n",
       "  <thead>\n",
       "    <tr style=\"text-align: right;\">\n",
       "      <th></th>\n",
       "      <th>LHS</th>\n",
       "      <th>RHS</th>\n",
       "      <th>Support</th>\n",
       "      <th>Confidence</th>\n",
       "      <th>Lift</th>\n",
       "    </tr>\n",
       "  </thead>\n",
       "  <tbody>\n",
       "    <tr>\n",
       "      <th>56</th>\n",
       "      <td>[avocado]</td>\n",
       "      <td>[cosmetics]</td>\n",
       "      <td>0.356</td>\n",
       "      <td>0.726531</td>\n",
       "      <td>1.355468</td>\n",
       "    </tr>\n",
       "    <tr>\n",
       "      <th>57</th>\n",
       "      <td>[cosmetics]</td>\n",
       "      <td>[avocado]</td>\n",
       "      <td>0.356</td>\n",
       "      <td>0.664179</td>\n",
       "      <td>1.355468</td>\n",
       "    </tr>\n",
       "    <tr>\n",
       "      <th>126</th>\n",
       "      <td>[choclate]</td>\n",
       "      <td>[cracker]</td>\n",
       "      <td>0.321</td>\n",
       "      <td>0.899160</td>\n",
       "      <td>2.359999</td>\n",
       "    </tr>\n",
       "    <tr>\n",
       "      <th>127</th>\n",
       "      <td>[cracker]</td>\n",
       "      <td>[choclate]</td>\n",
       "      <td>0.321</td>\n",
       "      <td>0.842520</td>\n",
       "      <td>2.359999</td>\n",
       "    </tr>\n",
       "    <tr>\n",
       "      <th>115</th>\n",
       "      <td>[bourbon]</td>\n",
       "      <td>[sardines]</td>\n",
       "      <td>0.297</td>\n",
       "      <td>0.671946</td>\n",
       "      <td>1.470341</td>\n",
       "    </tr>\n",
       "    <tr>\n",
       "      <th>116</th>\n",
       "      <td>[sardines]</td>\n",
       "      <td>[bourbon]</td>\n",
       "      <td>0.297</td>\n",
       "      <td>0.649891</td>\n",
       "      <td>1.470341</td>\n",
       "    </tr>\n",
       "    <tr>\n",
       "      <th>149</th>\n",
       "      <td>[cosmetics]</td>\n",
       "      <td>[sardines]</td>\n",
       "      <td>0.238</td>\n",
       "      <td>0.444030</td>\n",
       "      <td>0.971619</td>\n",
       "    </tr>\n",
       "    <tr>\n",
       "      <th>150</th>\n",
       "      <td>[sardines]</td>\n",
       "      <td>[cosmetics]</td>\n",
       "      <td>0.238</td>\n",
       "      <td>0.520788</td>\n",
       "      <td>0.971619</td>\n",
       "    </tr>\n",
       "    <tr>\n",
       "      <th>108</th>\n",
       "      <td>[bourbon]</td>\n",
       "      <td>[cosmetics]</td>\n",
       "      <td>0.231</td>\n",
       "      <td>0.522624</td>\n",
       "      <td>0.975046</td>\n",
       "    </tr>\n",
       "    <tr>\n",
       "      <th>109</th>\n",
       "      <td>[cosmetics]</td>\n",
       "      <td>[bourbon]</td>\n",
       "      <td>0.231</td>\n",
       "      <td>0.430970</td>\n",
       "      <td>0.975046</td>\n",
       "    </tr>\n",
       "  </tbody>\n",
       "</table>\n",
       "</div>"
      ],
      "text/plain": [
       "             LHS          RHS  Support  Confidence      Lift\n",
       "56     [avocado]  [cosmetics]    0.356    0.726531  1.355468\n",
       "57   [cosmetics]    [avocado]    0.356    0.664179  1.355468\n",
       "126   [choclate]    [cracker]    0.321    0.899160  2.359999\n",
       "127    [cracker]   [choclate]    0.321    0.842520  2.359999\n",
       "115    [bourbon]   [sardines]    0.297    0.671946  1.470341\n",
       "116   [sardines]    [bourbon]    0.297    0.649891  1.470341\n",
       "149  [cosmetics]   [sardines]    0.238    0.444030  0.971619\n",
       "150   [sardines]  [cosmetics]    0.238    0.520788  0.971619\n",
       "108    [bourbon]  [cosmetics]    0.231    0.522624  0.975046\n",
       "109  [cosmetics]    [bourbon]    0.231    0.430970  0.975046"
      ]
     },
     "execution_count": 11,
     "metadata": {},
     "output_type": "execute_result"
    }
   ],
   "source": [
    "df[df['LHS'].apply(lambda x: len(x) > 0)].nlargest(10, 'Support')"
   ]
  },
  {
   "cell_type": "code",
   "execution_count": 12,
   "id": "69035534",
   "metadata": {},
   "outputs": [
    {
     "data": {
      "image/png": "[encoded data removed]",
      "text/plain": [
       "<Figure size 640x480 with 1 Axes>"
      ]
     },
     "metadata": {},
     "output_type": "display_data"
    }
   ],
   "source": [
    "ax = purchased.plot.bar()\n",
    "plt.show()"
   ]
  },
  {
   "cell_type": "code",
   "execution_count": 13,
   "id": "a6375de8",
   "metadata": {},
   "outputs": [
    {
     "name": "stdout",
     "output_type": "stream",
     "text": [
      "The number of associated rules: 24\n",
      "LHS: ['artichoke'] --> RHS:['cosmetics'], support: 0.17, confidence: 0.52, lift: 0.97\n",
      "--------------------------------------------------------------------------------\n",
      "LHS: ['avocado'] --> RHS:['cosmetics'], support: 0.36, confidence: 0.73, lift: 1.36\n",
      "--------------------------------------------------------------------------------\n",
      "LHS: ['banana'] --> RHS:['cosmetics'], support: 0.19, confidence: 0.53, lift: 0.99\n",
      "--------------------------------------------------------------------------------\n",
      "LHS: ['bourbon'] --> RHS:['cosmetics'], support: 0.23, confidence: 0.52, lift: 0.98\n",
      "--------------------------------------------------------------------------------\n",
      "LHS: ['choclate'] --> RHS:['cosmetics'], support: 0.19, confidence: 0.54, lift: 1.00\n",
      "--------------------------------------------------------------------------------\n",
      "LHS: ['coke'] --> RHS:['cosmetics'], support: 0.14, confidence: 0.51, lift: 0.95\n",
      "--------------------------------------------------------------------------------\n",
      "LHS: ['cracker'] --> RHS:['cosmetics'], support: 0.21, confidence: 0.55, lift: 1.03\n",
      "--------------------------------------------------------------------------------\n",
      "LHS: ['sardines'] --> RHS:['cosmetics'], support: 0.24, confidence: 0.52, lift: 0.97\n",
      "--------------------------------------------------------------------------------\n",
      "LHS: ['avocado', 'artichoke'] --> RHS:['cosmetics'], support: 0.12, confidence: 0.73, lift: 1.37\n",
      "--------------------------------------------------------------------------------\n",
      "LHS: ['banana', 'avocado'] --> RHS:['cosmetics'], support: 0.12, confidence: 0.67, lift: 1.25\n",
      "--------------------------------------------------------------------------------\n",
      "LHS: ['bourbon', 'avocado'] --> RHS:['cosmetics'], support: 0.14, confidence: 0.65, lift: 1.21\n",
      "--------------------------------------------------------------------------------\n",
      "LHS: ['choclate', 'avocado'] --> RHS:['cosmetics'], support: 0.13, confidence: 0.72, lift: 1.34\n",
      "--------------------------------------------------------------------------------\n",
      "LHS: ['cracker', 'avocado'] --> RHS:['cosmetics'], support: 0.15, confidence: 0.73, lift: 1.36\n",
      "--------------------------------------------------------------------------------\n",
      "LHS: ['sardines', 'avocado'] --> RHS:['cosmetics'], support: 0.16, confidence: 0.69, lift: 1.28\n",
      "--------------------------------------------------------------------------------\n",
      "LHS: ['banana', 'bourbon'] --> RHS:['cosmetics'], support: 0.12, confidence: 0.52, lift: 0.98\n",
      "--------------------------------------------------------------------------------\n",
      "LHS: ['choclate', 'banana'] --> RHS:['cosmetics'], support: 0.10, confidence: 0.55, lift: 1.02\n",
      "--------------------------------------------------------------------------------\n",
      "LHS: ['banana', 'cracker'] --> RHS:['cosmetics'], support: 0.10, confidence: 0.55, lift: 1.03\n",
      "--------------------------------------------------------------------------------\n",
      "LHS: ['choclate', 'bourbon'] --> RHS:['cosmetics'], support: 0.11, confidence: 0.52, lift: 0.98\n",
      "--------------------------------------------------------------------------------\n",
      "LHS: ['bourbon', 'cracker'] --> RHS:['cosmetics'], support: 0.10, confidence: 0.52, lift: 0.97\n",
      "--------------------------------------------------------------------------------\n",
      "LHS: ['sardines', 'bourbon'] --> RHS:['cosmetics'], support: 0.15, confidence: 0.51, lift: 0.95\n",
      "--------------------------------------------------------------------------------\n",
      "LHS: ['choclate', 'cracker'] --> RHS:['cosmetics'], support: 0.17, confidence: 0.52, lift: 0.96\n",
      "--------------------------------------------------------------------------------\n",
      "LHS: ['choclate', 'avocado'] --> RHS:['cosmetics', 'cracker'], support: 0.11, confidence: 0.61, lift: 2.91\n",
      "--------------------------------------------------------------------------------\n",
      "LHS: ['cracker', 'avocado'] --> RHS:['choclate', 'cosmetics'], support: 0.11, confidence: 0.55, lift: 2.88\n",
      "--------------------------------------------------------------------------------\n",
      "LHS: ['choclate', 'cracker', 'avocado'] --> RHS:['cosmetics'], support: 0.11, confidence: 0.70, lift: 1.31\n",
      "--------------------------------------------------------------------------------\n"
     ]
    }
   ],
   "source": [
    "cosmetics_rules = list(apriori(store_transactions, min_support=0.1, min_confidence=0.5))\n",
    "cosmetics_assc_rules = ARutils.extract(cosmetics_rules, 'cosmetics', 2)\n",
    "ARutils.inspect(cosmetics_assc_rules)"
   ]
  },
  {
   "cell_type": "code",
   "execution_count": 14,
   "id": "146d26d0",
   "metadata": {},
   "outputs": [
    {
     "data": {
      "text/html": [
       "<div>\n",
       "<style scoped>\n",
       "    .dataframe tbody tr th:only-of-type {\n",
       "        vertical-align: middle;\n",
       "    }\n",
       "\n",
       "    .dataframe tbody tr th {\n",
       "        vertical-align: top;\n",
       "    }\n",
       "\n",
       "    .dataframe thead th {\n",
       "        text-align: right;\n",
       "    }\n",
       "</style>\n",
       "<table border=\"1\" class=\"dataframe\">\n",
       "  <thead>\n",
       "    <tr style=\"text-align: right;\">\n",
       "      <th></th>\n",
       "      <th>LHS</th>\n",
       "      <th>RHS</th>\n",
       "      <th>Support</th>\n",
       "      <th>Confidence</th>\n",
       "      <th>Lift</th>\n",
       "    </tr>\n",
       "  </thead>\n",
       "  <tbody>\n",
       "    <tr>\n",
       "      <th>0</th>\n",
       "      <td>[artichoke]</td>\n",
       "      <td>[cosmetics]</td>\n",
       "      <td>0.167</td>\n",
       "      <td>0.518634</td>\n",
       "      <td>0.967600</td>\n",
       "    </tr>\n",
       "    <tr>\n",
       "      <th>1</th>\n",
       "      <td>[avocado]</td>\n",
       "      <td>[cosmetics]</td>\n",
       "      <td>0.356</td>\n",
       "      <td>0.726531</td>\n",
       "      <td>1.355468</td>\n",
       "    </tr>\n",
       "    <tr>\n",
       "      <th>2</th>\n",
       "      <td>[banana]</td>\n",
       "      <td>[cosmetics]</td>\n",
       "      <td>0.192</td>\n",
       "      <td>0.528926</td>\n",
       "      <td>0.986802</td>\n",
       "    </tr>\n",
       "    <tr>\n",
       "      <th>3</th>\n",
       "      <td>[bourbon]</td>\n",
       "      <td>[cosmetics]</td>\n",
       "      <td>0.231</td>\n",
       "      <td>0.522624</td>\n",
       "      <td>0.975046</td>\n",
       "    </tr>\n",
       "    <tr>\n",
       "      <th>4</th>\n",
       "      <td>[choclate]</td>\n",
       "      <td>[cosmetics]</td>\n",
       "      <td>0.192</td>\n",
       "      <td>0.537815</td>\n",
       "      <td>1.003386</td>\n",
       "    </tr>\n",
       "    <tr>\n",
       "      <th>5</th>\n",
       "      <td>[coke]</td>\n",
       "      <td>[cosmetics]</td>\n",
       "      <td>0.143</td>\n",
       "      <td>0.510714</td>\n",
       "      <td>0.952825</td>\n",
       "    </tr>\n",
       "    <tr>\n",
       "      <th>6</th>\n",
       "      <td>[cracker]</td>\n",
       "      <td>[cosmetics]</td>\n",
       "      <td>0.211</td>\n",
       "      <td>0.553806</td>\n",
       "      <td>1.033220</td>\n",
       "    </tr>\n",
       "    <tr>\n",
       "      <th>7</th>\n",
       "      <td>[sardines]</td>\n",
       "      <td>[cosmetics]</td>\n",
       "      <td>0.238</td>\n",
       "      <td>0.520788</td>\n",
       "      <td>0.971619</td>\n",
       "    </tr>\n",
       "    <tr>\n",
       "      <th>8</th>\n",
       "      <td>[avocado, artichoke]</td>\n",
       "      <td>[cosmetics]</td>\n",
       "      <td>0.116</td>\n",
       "      <td>0.734177</td>\n",
       "      <td>1.369734</td>\n",
       "    </tr>\n",
       "    <tr>\n",
       "      <th>9</th>\n",
       "      <td>[banana, avocado]</td>\n",
       "      <td>[cosmetics]</td>\n",
       "      <td>0.119</td>\n",
       "      <td>0.668539</td>\n",
       "      <td>1.247275</td>\n",
       "    </tr>\n",
       "    <tr>\n",
       "      <th>10</th>\n",
       "      <td>[bourbon, avocado]</td>\n",
       "      <td>[cosmetics]</td>\n",
       "      <td>0.141</td>\n",
       "      <td>0.646789</td>\n",
       "      <td>1.206696</td>\n",
       "    </tr>\n",
       "    <tr>\n",
       "      <th>11</th>\n",
       "      <td>[choclate, avocado]</td>\n",
       "      <td>[cosmetics]</td>\n",
       "      <td>0.130</td>\n",
       "      <td>0.718232</td>\n",
       "      <td>1.339985</td>\n",
       "    </tr>\n",
       "    <tr>\n",
       "      <th>12</th>\n",
       "      <td>[cracker, avocado]</td>\n",
       "      <td>[cosmetics]</td>\n",
       "      <td>0.146</td>\n",
       "      <td>0.726368</td>\n",
       "      <td>1.355164</td>\n",
       "    </tr>\n",
       "    <tr>\n",
       "      <th>13</th>\n",
       "      <td>[sardines, avocado]</td>\n",
       "      <td>[cosmetics]</td>\n",
       "      <td>0.156</td>\n",
       "      <td>0.687225</td>\n",
       "      <td>1.282136</td>\n",
       "    </tr>\n",
       "    <tr>\n",
       "      <th>14</th>\n",
       "      <td>[banana, bourbon]</td>\n",
       "      <td>[cosmetics]</td>\n",
       "      <td>0.115</td>\n",
       "      <td>0.522727</td>\n",
       "      <td>0.975237</td>\n",
       "    </tr>\n",
       "    <tr>\n",
       "      <th>15</th>\n",
       "      <td>[choclate, banana]</td>\n",
       "      <td>[cosmetics]</td>\n",
       "      <td>0.101</td>\n",
       "      <td>0.548913</td>\n",
       "      <td>1.024091</td>\n",
       "    </tr>\n",
       "    <tr>\n",
       "      <th>16</th>\n",
       "      <td>[banana, cracker]</td>\n",
       "      <td>[cosmetics]</td>\n",
       "      <td>0.100</td>\n",
       "      <td>0.549451</td>\n",
       "      <td>1.025094</td>\n",
       "    </tr>\n",
       "    <tr>\n",
       "      <th>17</th>\n",
       "      <td>[choclate, bourbon]</td>\n",
       "      <td>[cosmetics]</td>\n",
       "      <td>0.107</td>\n",
       "      <td>0.524510</td>\n",
       "      <td>0.978563</td>\n",
       "    </tr>\n",
       "    <tr>\n",
       "      <th>18</th>\n",
       "      <td>[bourbon, cracker]</td>\n",
       "      <td>[cosmetics]</td>\n",
       "      <td>0.104</td>\n",
       "      <td>0.517413</td>\n",
       "      <td>0.965323</td>\n",
       "    </tr>\n",
       "    <tr>\n",
       "      <th>19</th>\n",
       "      <td>[sardines, bourbon]</td>\n",
       "      <td>[cosmetics]</td>\n",
       "      <td>0.152</td>\n",
       "      <td>0.511785</td>\n",
       "      <td>0.954822</td>\n",
       "    </tr>\n",
       "    <tr>\n",
       "      <th>20</th>\n",
       "      <td>[choclate, cracker]</td>\n",
       "      <td>[cosmetics]</td>\n",
       "      <td>0.166</td>\n",
       "      <td>0.517134</td>\n",
       "      <td>0.964802</td>\n",
       "    </tr>\n",
       "    <tr>\n",
       "      <th>21</th>\n",
       "      <td>[choclate, avocado]</td>\n",
       "      <td>[cosmetics, cracker]</td>\n",
       "      <td>0.111</td>\n",
       "      <td>0.613260</td>\n",
       "      <td>2.906444</td>\n",
       "    </tr>\n",
       "    <tr>\n",
       "      <th>22</th>\n",
       "      <td>[cracker, avocado]</td>\n",
       "      <td>[choclate, cosmetics]</td>\n",
       "      <td>0.111</td>\n",
       "      <td>0.552239</td>\n",
       "      <td>2.876244</td>\n",
       "    </tr>\n",
       "    <tr>\n",
       "      <th>23</th>\n",
       "      <td>[choclate, cracker, avocado]</td>\n",
       "      <td>[cosmetics]</td>\n",
       "      <td>0.111</td>\n",
       "      <td>0.702532</td>\n",
       "      <td>1.310693</td>\n",
       "    </tr>\n",
       "  </tbody>\n",
       "</table>\n",
       "</div>"
      ],
      "text/plain": [
       "                             LHS                    RHS  Support  Confidence  \\\n",
       "0                    [artichoke]            [cosmetics]    0.167    0.518634   \n",
       "1                      [avocado]            [cosmetics]    0.356    0.726531   \n",
       "2                       [banana]            [cosmetics]    0.192    0.528926   \n",
       "3                      [bourbon]            [cosmetics]    0.231    0.522624   \n",
       "4                     [choclate]            [cosmetics]    0.192    0.537815   \n",
       "5                         [coke]            [cosmetics]    0.143    0.510714   \n",
       "6                      [cracker]            [cosmetics]    0.211    0.553806   \n",
       "7                     [sardines]            [cosmetics]    0.238    0.520788   \n",
       "8           [avocado, artichoke]            [cosmetics]    0.116    0.734177   \n",
       "9              [banana, avocado]            [cosmetics]    0.119    0.668539   \n",
       "10            [bourbon, avocado]            [cosmetics]    0.141    0.646789   \n",
       "11           [choclate, avocado]            [cosmetics]    0.130    0.718232   \n",
       "12            [cracker, avocado]            [cosmetics]    0.146    0.726368   \n",
       "13           [sardines, avocado]            [cosmetics]    0.156    0.687225   \n",
       "14             [banana, bourbon]            [cosmetics]    0.115    0.522727   \n",
       "15            [choclate, banana]            [cosmetics]    0.101    0.548913   \n",
       "16             [banana, cracker]            [cosmetics]    0.100    0.549451   \n",
       "17           [choclate, bourbon]            [cosmetics]    0.107    0.524510   \n",
       "18            [bourbon, cracker]            [cosmetics]    0.104    0.517413   \n",
       "19           [sardines, bourbon]            [cosmetics]    0.152    0.511785   \n",
       "20           [choclate, cracker]            [cosmetics]    0.166    0.517134   \n",
       "21           [choclate, avocado]   [cosmetics, cracker]    0.111    0.613260   \n",
       "22            [cracker, avocado]  [choclate, cosmetics]    0.111    0.552239   \n",
       "23  [choclate, cracker, avocado]            [cosmetics]    0.111    0.702532   \n",
       "\n",
       "        Lift  \n",
       "0   0.967600  \n",
       "1   1.355468  \n",
       "2   0.986802  \n",
       "3   0.975046  \n",
       "4   1.003386  \n",
       "5   0.952825  \n",
       "6   1.033220  \n",
       "7   0.971619  \n",
       "8   1.369734  \n",
       "9   1.247275  \n",
       "10  1.206696  \n",
       "11  1.339985  \n",
       "12  1.355164  \n",
       "13  1.282136  \n",
       "14  0.975237  \n",
       "15  1.024091  \n",
       "16  1.025094  \n",
       "17  0.978563  \n",
       "18  0.965323  \n",
       "19  0.954822  \n",
       "20  0.964802  \n",
       "21  2.906444  \n",
       "22  2.876244  \n",
       "23  1.310693  "
      ]
     },
     "execution_count": 14,
     "metadata": {},
     "output_type": "execute_result"
    }
   ],
   "source": [
    "cosmetics_df = pd.DataFrame(cosmetics_assc_rules, columns=['LHS', 'RHS', 'Support', 'Confidence', 'Lift'])\n",
    "cosmetics_df"
   ]
  },
  {
   "cell_type": "code",
   "execution_count": 15,
   "id": "4203dc96",
   "metadata": {},
   "outputs": [
    {
     "data": {
      "application/vnd.plotly.v1+json": {
       "config": {
        "plotlyServerURL": "https://plot.ly"
       },
       "data": [
        {
         "customdata": [
          [
           [
            "artichoke"
           ],
           [
            "cosmetics"
           ]
          ],
          [
           [
            "avocado"
           ],
           [
            "cosmetics"
           ]
          ],
          [
           [
            "banana"
           ],
           [
            "cosmetics"
           ]
          ],
          [
           [
            "bourbon"
           ],
           [
            "cosmetics"
           ]
          ],
          [
           [
            "choclate"
           ],
           [
            "cosmetics"
           ]
          ],
          [
           [
            "coke"
           ],
           [
            "cosmetics"
           ]
          ],
          [
           [
            "cracker"
           ],
           [
            "cosmetics"
           ]
          ],
          [
           [
            "sardines"
           ],
           [
            "cosmetics"
           ]
          ],
          [
           [
            "avocado",
            "artichoke"
           ],
           [
            "cosmetics"
           ]
          ],
          [
           [
            "banana",
            "avocado"
           ],
           [
            "cosmetics"
           ]
          ],
          [
           [
            "bourbon",
            "avocado"
           ],
           [
            "cosmetics"
           ]
          ],
          [
           [
            "choclate",
            "avocado"
           ],
           [
            "cosmetics"
           ]
          ],
          [
           [
            "cracker",
            "avocado"
           ],
           [
            "cosmetics"
           ]
          ],
          [
           [
            "sardines",
            "avocado"
           ],
           [
            "cosmetics"
           ]
          ],
          [
           [
            "banana",
            "bourbon"
           ],
           [
            "cosmetics"
           ]
          ],
          [
           [
            "choclate",
            "banana"
           ],
           [
            "cosmetics"
           ]
          ],
          [
           [
            "banana",
            "cracker"
           ],
           [
            "cosmetics"
           ]
          ],
          [
           [
            "choclate",
            "bourbon"
           ],
           [
            "cosmetics"
           ]
          ],
          [
           [
            "bourbon",
            "cracker"
           ],
           [
            "cosmetics"
           ]
          ],
          [
           [
            "sardines",
            "bourbon"
           ],
           [
            "cosmetics"
           ]
          ],
          [
           [
            "choclate",
            "cracker"
           ],
           [
            "cosmetics"
           ]
          ],
          [
           [
            "choclate",
            "avocado"
           ],
           [
            "cosmetics",
            "cracker"
           ]
          ],
          [
           [
            "cracker",
            "avocado"
           ],
           [
            "choclate",
            "cosmetics"
           ]
          ],
          [
           [
            "choclate",
            "cracker",
            "avocado"
           ],
           [
            "cosmetics"
           ]
          ]
         ],
         "hovertemplate": "Support=%{x}<br>Confidence=%{y}<br>Lift=%{marker.color}<br>LHS=%{customdata[0]}<br>RHS=%{customdata[1]}<extra></extra>",
         "legendgroup": "",
         "marker": {
          "color": {
           "bdata": "xBu6CpT27j8PtZrA/q/1P1HfIM3gk+8/s39KzZIz7z8Nh6rt3g3wPxV4lDCLfe4/cnneaBGI8D8peMGUgBfvP0diUMpt6vU/HlY+fNb08z+zjl9WoE7zPyMPrUaUcPU/taYa8sCu9T+xjW6YoIP0P7J8uSolNe8/7OSGxK1i8D8zSzFKyWbwP79IPX5jUO8/lhdlTuzj7j+/gpeN5o3uP0avKcao3+4/S4lirGVAB0C5/ngZjAIHQC6KE5yZ+PQ/",
           "dtype": "f8"
          },
          "coloraxis": "coloraxis",
          "size": {
           "bdata": "xBu6CpT27j8PtZrA/q/1P1HfIM3gk+8/s39KzZIz7z8Nh6rt3g3wPxV4lDCLfe4/cnneaBGI8D8peMGUgBfvP0diUMpt6vU/HlY+fNb08z+zjl9WoE7zPyMPrUaUcPU/taYa8sCu9T+xjW6YoIP0P7J8uSolNe8/7OSGxK1i8D8zSzFKyWbwP79IPX5jUO8/lhdlTuzj7j+/gpeN5o3uP0avKcao3+4/S4lirGVAB0C5/ngZjAIHQC6KE5yZ+PQ/",
           "dtype": "f8"
          },
          "sizemode": "area",
          "sizeref": 0.007266109816448901,
          "symbol": "circle"
         },
         "mode": "markers",
         "name": "",
         "orientation": "v",
         "showlegend": false,
         "type": "scatter",
         "x": {
          "bdata": "x0s3iUFgxT9iEFg5tMjWP/p+arx0k8g/xSCwcmiRzT/6fmq8dJPIP+f7qfHSTcI/NV66SQwCyz8QWDm0yHbOPxkEVg4tsr0/EFg5tMh2vj8/NV66SQzCP6RwPQrXo8A/46WbxCCwwj8rhxbZzvfDP3E9CtejcL0/QmDl0CLbuT+amZmZmZm5PzEIrBxaZLs/ObTIdr6fuj/b+X5qvHTDP3Noke18P8U/0SLb+X5qvD/RItv5fmq8P9Ei2/l+arw/",
          "dtype": "f8"
         },
         "xaxis": "x",
         "y": {
          "bdata": "U0zQXaWY4D9pT2QgvT/nP5Cc5mv17OA/4Va54Fa54D8SyDURyDXhP3zFV3zFV+A/bowb48a44T9WvT4QS6rgP/2uFjdhfuc/VrKSlaxk5T8nS2DTfrLkP1vAmMTB++Y/y2AUcGg+5z8Icx6Xvv3lP7rooosuuuA/WchCFrKQ4T9SGZVRGZXhP8nIyMjIyOA/rbh3kqWO4D9915bpiWDgPyaRyoJcjOA/WV2GvdKf4z8HKme38KvhP/YMRKUje+Y/",
          "dtype": "f8"
         },
         "yaxis": "y"
        }
       ],
       "layout": {
        "coloraxis": {
         "colorbar": {
          "title": {
           "text": "Lift"
          }
         },
         "colorscale": [
          [
           0,
           "rgb(75, 41, 145)"
          ],
          [
           0.16666666666666666,
           "rgb(135, 44, 162)"
          ],
          [
           0.3333333333333333,
           "rgb(192, 54, 157)"
          ],
          [
           0.5,
           "rgb(234, 79, 136)"
          ],
          [
           0.6666666666666666,
           "rgb(250, 120, 118)"
          ],
          [
           0.8333333333333334,
           "rgb(246, 169, 122)"
          ],
          [
           1,
           "rgb(237, 217, 163)"
          ]
         ]
        },
        "legend": {
         "itemsizing": "constant",
         "tracegroupgap": 0
        },
        "margin": {
         "t": 60
        },
        "template": {
         "data": {
          "bar": [
           {
            "error_x": {
             "color": "#2a3f5f"
            },
            "error_y": {
             "color": "#2a3f5f"
            },
            "marker": {
             "line": {
              "color": "#E5ECF6",
              "width": 0.5
             },
             "pattern": {
              "fillmode": "overlay",
              "size": 10,
              "solidity": 0.2
             }
            },
            "type": "bar"
           }
          ],
          "barpolar": [
           {
            "marker": {
             "line": {
              "color": "#E5ECF6",
              "width": 0.5
             },
             "pattern": {
              "fillmode": "overlay",
              "size": 10,
              "solidity": 0.2
             }
            },
            "type": "barpolar"
           }
          ],
          "carpet": [
           {
            "aaxis": {
             "endlinecolor": "#2a3f5f",
             "gridcolor": "white",
             "linecolor": "white",
             "minorgridcolor": "white",
             "startlinecolor": "#2a3f5f"
            },
            "baxis": {
             "endlinecolor": "#2a3f5f",
             "gridcolor": "white",
             "linecolor": "white",
             "minorgridcolor": "white",
             "startlinecolor": "#2a3f5f"
            },
            "type": "carpet"
           }
          ],
          "choropleth": [
           {
            "colorbar": {
             "outlinewidth": 0,
             "ticks": ""
            },
            "type": "choropleth"
           }
          ],
          "contour": [
           {
            "colorbar": {
             "outlinewidth": 0,
             "ticks": ""
            },
            "colorscale": [
             [
              0,
              "#0d0887"
             ],
             [
              0.1111111111111111,
              "#46039f"
             ],
             [
              0.2222222222222222,
              "#7201a8"
             ],
             [
              0.3333333333333333,
              "#9c179e"
             ],
             [
              0.4444444444444444,
              "#bd3786"
             ],
             [
              0.5555555555555556,
              "#d8576b"
             ],
             [
              0.6666666666666666,
              "#ed7953"
             ],
             [
              0.7777777777777778,
              "#fb9f3a"
             ],
             [
              0.8888888888888888,
              "#fdca26"
             ],
             [
              1,
              "#f0f921"
             ]
            ],
            "type": "contour"
           }
          ],
          "contourcarpet": [
           {
            "colorbar": {
             "outlinewidth": 0,
             "ticks": ""
            },
            "type": "contourcarpet"
           }
          ],
          "heatmap": [
           {
            "colorbar": {
             "outlinewidth": 0,
             "ticks": ""
            },
            "colorscale": [
             [
              0,
              "#0d0887"
             ],
             [
              0.1111111111111111,
              "#46039f"
             ],
             [
              0.2222222222222222,
              "#7201a8"
             ],
             [
              0.3333333333333333,
              "#9c179e"
             ],
             [
              0.4444444444444444,
              "#bd3786"
             ],
             [
              0.5555555555555556,
              "#d8576b"
             ],
             [
              0.6666666666666666,
              "#ed7953"
             ],
             [
              0.7777777777777778,
              "#fb9f3a"
             ],
             [
              0.8888888888888888,
              "#fdca26"
             ],
             [
              1,
              "#f0f921"
             ]
            ],
            "type": "heatmap"
           }
          ],
          "histogram": [
           {
            "marker": {
             "pattern": {
              "fillmode": "overlay",
              "size": 10,
              "solidity": 0.2
             }
            },
            "type": "histogram"
           }
          ],
          "histogram2d": [
           {
            "colorbar": {
             "outlinewidth": 0,
             "ticks": ""
            },
            "colorscale": [
             [
              0,
              "#0d0887"
             ],
             [
              0.1111111111111111,
              "#46039f"
             ],
             [
              0.2222222222222222,
              "#7201a8"
             ],
             [
              0.3333333333333333,
              "#9c179e"
             ],
             [
              0.4444444444444444,
              "#bd3786"
             ],
             [
              0.5555555555555556,
              "#d8576b"
             ],
             [
              0.6666666666666666,
              "#ed7953"
             ],
             [
              0.7777777777777778,
              "#fb9f3a"
             ],
             [
              0.8888888888888888,
              "#fdca26"
             ],
             [
              1,
              "#f0f921"
             ]
            ],
            "type": "histogram2d"
           }
          ],
          "histogram2dcontour": [
           {
            "colorbar": {
             "outlinewidth": 0,
             "ticks": ""
            },
            "colorscale": [
             [
              0,
              "#0d0887"
             ],
             [
              0.1111111111111111,
              "#46039f"
             ],
             [
              0.2222222222222222,
              "#7201a8"
             ],
             [
              0.3333333333333333,
              "#9c179e"
             ],
             [
              0.4444444444444444,
              "#bd3786"
             ],
             [
              0.5555555555555556,
              "#d8576b"
             ],
             [
              0.6666666666666666,
              "#ed7953"
             ],
             [
              0.7777777777777778,
              "#fb9f3a"
             ],
             [
              0.8888888888888888,
              "#fdca26"
             ],
             [
              1,
              "#f0f921"
             ]
            ],
            "type": "histogram2dcontour"
           }
          ],
          "mesh3d": [
           {
            "colorbar": {
             "outlinewidth": 0,
             "ticks": ""
            },
            "type": "mesh3d"
           }
          ],
          "parcoords": [
           {
            "line": {
             "colorbar": {
              "outlinewidth": 0,
              "ticks": ""
             }
            },
            "type": "parcoords"
           }
          ],
          "pie": [
           {
            "automargin": true,
            "type": "pie"
           }
          ],
          "scatter": [
           {
            "fillpattern": {
             "fillmode": "overlay",
             "size": 10,
             "solidity": 0.2
            },
            "type": "scatter"
           }
          ],
          "scatter3d": [
           {
            "line": {
             "colorbar": {
              "outlinewidth": 0,
              "ticks": ""
             }
            },
            "marker": {
             "colorbar": {
              "outlinewidth": 0,
              "ticks": ""
             }
            },
            "type": "scatter3d"
           }
          ],
          "scattercarpet": [
           {
            "marker": {
             "colorbar": {
              "outlinewidth": 0,
              "ticks": ""
             }
            },
            "type": "scattercarpet"
           }
          ],
          "scattergeo": [
           {
            "marker": {
             "colorbar": {
              "outlinewidth": 0,
              "ticks": ""
             }
            },
            "type": "scattergeo"
           }
          ],
          "scattergl": [
           {
            "marker": {
             "colorbar": {
              "outlinewidth": 0,
              "ticks": ""
             }
            },
            "type": "scattergl"
           }
          ],
          "scattermap": [
           {
            "marker": {
             "colorbar": {
              "outlinewidth": 0,
              "ticks": ""
             }
            },
            "type": "scattermap"
           }
          ],
          "scattermapbox": [
           {
            "marker": {
             "colorbar": {
              "outlinewidth": 0,
              "ticks": ""
             }
            },
            "type": "scattermapbox"
           }
          ],
          "scatterpolar": [
           {
            "marker": {
             "colorbar": {
              "outlinewidth": 0,
              "ticks": ""
             }
            },
            "type": "scatterpolar"
           }
          ],
          "scatterpolargl": [
           {
            "marker": {
             "colorbar": {
              "outlinewidth": 0,
              "ticks": ""
             }
            },
            "type": "scatterpolargl"
           }
          ],
          "scatterternary": [
           {
            "marker": {
             "colorbar": {
              "outlinewidth": 0,
              "ticks": ""
             }
            },
            "type": "scatterternary"
           }
          ],
          "surface": [
           {
            "colorbar": {
             "outlinewidth": 0,
             "ticks": ""
            },
            "colorscale": [
             [
              0,
              "#0d0887"
             ],
             [
              0.1111111111111111,
              "#46039f"
             ],
             [
              0.2222222222222222,
              "#7201a8"
             ],
             [
              0.3333333333333333,
              "#9c179e"
             ],
             [
              0.4444444444444444,
              "#bd3786"
             ],
             [
              0.5555555555555556,
              "#d8576b"
             ],
             [
              0.6666666666666666,
              "#ed7953"
             ],
             [
              0.7777777777777778,
              "#fb9f3a"
             ],
             [
              0.8888888888888888,
              "#fdca26"
             ],
             [
              1,
              "#f0f921"
             ]
            ],
            "type": "surface"
           }
          ],
          "table": [
           {
            "cells": {
             "fill": {
              "color": "#EBF0F8"
             },
             "line": {
              "color": "white"
             }
            },
            "header": {
             "fill": {
              "color": "#C8D4E3"
             },
             "line": {
              "color": "white"
             }
            },
            "type": "table"
           }
          ]
         },
         "layout": {
          "annotationdefaults": {
           "arrowcolor": "#2a3f5f",
           "arrowhead": 0,
           "arrowwidth": 1
          },
          "autotypenumbers": "strict",
          "coloraxis": {
           "colorbar": {
            "outlinewidth": 0,
            "ticks": ""
           }
          },
          "colorscale": {
           "diverging": [
            [
             0,
             "#8e0152"
            ],
            [
             0.1,
             "#c51b7d"
            ],
            [
             0.2,
             "#de77ae"
            ],
            [
             0.3,
             "#f1b6da"
            ],
            [
             0.4,
             "#fde0ef"
            ],
            [
             0.5,
             "#f7f7f7"
            ],
            [
             0.6,
             "#e6f5d0"
            ],
            [
             0.7,
             "#b8e186"
            ],
            [
             0.8,
             "#7fbc41"
            ],
            [
             0.9,
             "#4d9221"
            ],
            [
             1,
             "#276419"
            ]
           ],
           "sequential": [
            [
             0,
             "#0d0887"
            ],
            [
             0.1111111111111111,
             "#46039f"
            ],
            [
             0.2222222222222222,
             "#7201a8"
            ],
            [
             0.3333333333333333,
             "#9c179e"
            ],
            [
             0.4444444444444444,
             "#bd3786"
            ],
            [
             0.5555555555555556,
             "#d8576b"
            ],
            [
             0.6666666666666666,
             "#ed7953"
            ],
            [
             0.7777777777777778,
             "#fb9f3a"
            ],
            [
             0.8888888888888888,
             "#fdca26"
            ],
            [
             1,
             "#f0f921"
            ]
           ],
           "sequentialminus": [
            [
             0,
             "#0d0887"
            ],
            [
             0.1111111111111111,
             "#46039f"
            ],
            [
             0.2222222222222222,
             "#7201a8"
            ],
            [
             0.3333333333333333,
             "#9c179e"
            ],
            [
             0.4444444444444444,
             "#bd3786"
            ],
            [
             0.5555555555555556,
             "#d8576b"
            ],
            [
             0.6666666666666666,
             "#ed7953"
            ],
            [
             0.7777777777777778,
             "#fb9f3a"
            ],
            [
             0.8888888888888888,
             "#fdca26"
            ],
            [
             1,
             "#f0f921"
            ]
           ]
          },
          "colorway": [
           "#636efa",
           "#EF553B",
           "#00cc96",
           "#ab63fa",
           "#FFA15A",
           "#19d3f3",
           "#FF6692",
           "#B6E880",
           "#FF97FF",
           "#FECB52"
          ],
          "font": {
           "color": "#2a3f5f"
          },
          "geo": {
           "bgcolor": "white",
           "lakecolor": "white",
           "landcolor": "#E5ECF6",
           "showlakes": true,
           "showland": true,
           "subunitcolor": "white"
          },
          "hoverlabel": {
           "align": "left"
          },
          "hovermode": "closest",
          "mapbox": {
           "style": "light"
          },
          "paper_bgcolor": "white",
          "plot_bgcolor": "#E5ECF6",
          "polar": {
           "angularaxis": {
            "gridcolor": "white",
            "linecolor": "white",
            "ticks": ""
           },
           "bgcolor": "#E5ECF6",
           "radialaxis": {
            "gridcolor": "white",
            "linecolor": "white",
            "ticks": ""
           }
          },
          "scene": {
           "xaxis": {
            "backgroundcolor": "#E5ECF6",
            "gridcolor": "white",
            "gridwidth": 2,
            "linecolor": "white",
            "showbackground": true,
            "ticks": "",
            "zerolinecolor": "white"
           },
           "yaxis": {
            "backgroundcolor": "#E5ECF6",
            "gridcolor": "white",
            "gridwidth": 2,
            "linecolor": "white",
            "showbackground": true,
            "ticks": "",
            "zerolinecolor": "white"
           },
           "zaxis": {
            "backgroundcolor": "#E5ECF6",
            "gridcolor": "white",
            "gridwidth": 2,
            "linecolor": "white",
            "showbackground": true,
            "ticks": "",
            "zerolinecolor": "white"
           }
          },
          "shapedefaults": {
           "line": {
            "color": "#2a3f5f"
           }
          },
          "ternary": {
           "aaxis": {
            "gridcolor": "white",
            "linecolor": "white",
            "ticks": ""
           },
           "baxis": {
            "gridcolor": "white",
            "linecolor": "white",
            "ticks": ""
           },
           "bgcolor": "#E5ECF6",
           "caxis": {
            "gridcolor": "white",
            "linecolor": "white",
            "ticks": ""
           }
          },
          "title": {
           "x": 0.05
          },
          "xaxis": {
           "automargin": true,
           "gridcolor": "white",
           "linecolor": "white",
           "ticks": "",
           "title": {
            "standoff": 15
           },
           "zerolinecolor": "white",
           "zerolinewidth": 2
          },
          "yaxis": {
           "automargin": true,
           "gridcolor": "white",
           "linecolor": "white",
           "ticks": "",
           "title": {
            "standoff": 15
           },
           "zerolinecolor": "white",
           "zerolinewidth": 2
          }
         }
        },
        "xaxis": {
         "anchor": "y",
         "domain": [
          0,
          1
         ],
         "title": {
          "text": "Support"
         }
        },
        "yaxis": {
         "anchor": "x",
         "domain": [
          0,
          1
         ],
         "title": {
          "text": "Confidence"
         }
        }
       }
      }
     },
     "metadata": {},
     "output_type": "display_data"
    }
   ],
   "source": [
    "fig = px.scatter(\n",
    "    cosmetics_df, \n",
    "    x='Support', \n",
    "    y='Confidence', \n",
    "    color='Lift', \n",
    "    size='Lift', \n",
    "    hover_data=['LHS', 'RHS'], \n",
    "    color_continuous_scale='agsunset'\n",
    ")\n",
    "fig.show()\n"
   ]
  },
  {
   "cell_type": "code",
   "execution_count": 16,
   "id": "c51ed7ef",
   "metadata": {},
   "outputs": [
    {
     "data": {
      "text/html": [
       "<div>\n",
       "<style scoped>\n",
       "    .dataframe tbody tr th:only-of-type {\n",
       "        vertical-align: middle;\n",
       "    }\n",
       "\n",
       "    .dataframe tbody tr th {\n",
       "        vertical-align: top;\n",
       "    }\n",
       "\n",
       "    .dataframe thead th {\n",
       "        text-align: right;\n",
       "    }\n",
       "</style>\n",
       "<table border=\"1\" class=\"dataframe\">\n",
       "  <thead>\n",
       "    <tr style=\"text-align: right;\">\n",
       "      <th></th>\n",
       "      <th>LHS</th>\n",
       "      <th>RHS</th>\n",
       "      <th>Support</th>\n",
       "      <th>Confidence</th>\n",
       "      <th>Lift</th>\n",
       "    </tr>\n",
       "  </thead>\n",
       "  <tbody>\n",
       "    <tr>\n",
       "      <th>0</th>\n",
       "      <td>[]</td>\n",
       "      <td>[artichoke]</td>\n",
       "      <td>0.322</td>\n",
       "      <td>0.322000</td>\n",
       "      <td>1.000000</td>\n",
       "    </tr>\n",
       "    <tr>\n",
       "      <th>1</th>\n",
       "      <td>[]</td>\n",
       "      <td>[avocado]</td>\n",
       "      <td>0.490</td>\n",
       "      <td>0.490000</td>\n",
       "      <td>1.000000</td>\n",
       "    </tr>\n",
       "    <tr>\n",
       "      <th>2</th>\n",
       "      <td>[]</td>\n",
       "      <td>[baguette]</td>\n",
       "      <td>0.279</td>\n",
       "      <td>0.279000</td>\n",
       "      <td>1.000000</td>\n",
       "    </tr>\n",
       "    <tr>\n",
       "      <th>3</th>\n",
       "      <td>[]</td>\n",
       "      <td>[banana]</td>\n",
       "      <td>0.363</td>\n",
       "      <td>0.363000</td>\n",
       "      <td>1.000000</td>\n",
       "    </tr>\n",
       "    <tr>\n",
       "      <th>4</th>\n",
       "      <td>[]</td>\n",
       "      <td>[bourbon]</td>\n",
       "      <td>0.442</td>\n",
       "      <td>0.442000</td>\n",
       "      <td>1.000000</td>\n",
       "    </tr>\n",
       "    <tr>\n",
       "      <th>...</th>\n",
       "      <td>...</td>\n",
       "      <td>...</td>\n",
       "      <td>...</td>\n",
       "      <td>...</td>\n",
       "      <td>...</td>\n",
       "    </tr>\n",
       "    <tr>\n",
       "      <th>1163</th>\n",
       "      <td>[soda, turkey]</td>\n",
       "      <td>[cracker]</td>\n",
       "      <td>0.038</td>\n",
       "      <td>0.558824</td>\n",
       "      <td>1.466728</td>\n",
       "    </tr>\n",
       "    <tr>\n",
       "      <th>1164</th>\n",
       "      <td>[turkey]</td>\n",
       "      <td>[soda, sardines]</td>\n",
       "      <td>0.045</td>\n",
       "      <td>0.302013</td>\n",
       "      <td>2.323180</td>\n",
       "    </tr>\n",
       "    <tr>\n",
       "      <th>1165</th>\n",
       "      <td>[soda, sardines]</td>\n",
       "      <td>[turkey]</td>\n",
       "      <td>0.045</td>\n",
       "      <td>0.346154</td>\n",
       "      <td>2.323180</td>\n",
       "    </tr>\n",
       "    <tr>\n",
       "      <th>1166</th>\n",
       "      <td>[sardines, turkey]</td>\n",
       "      <td>[soda]</td>\n",
       "      <td>0.045</td>\n",
       "      <td>0.576923</td>\n",
       "      <td>2.465483</td>\n",
       "    </tr>\n",
       "    <tr>\n",
       "      <th>1167</th>\n",
       "      <td>[soda, turkey]</td>\n",
       "      <td>[sardines]</td>\n",
       "      <td>0.045</td>\n",
       "      <td>0.661765</td>\n",
       "      <td>1.448063</td>\n",
       "    </tr>\n",
       "  </tbody>\n",
       "</table>\n",
       "<p>1168 rows × 5 columns</p>\n",
       "</div>"
      ],
      "text/plain": [
       "                     LHS               RHS  Support  Confidence      Lift\n",
       "0                     []       [artichoke]    0.322    0.322000  1.000000\n",
       "1                     []         [avocado]    0.490    0.490000  1.000000\n",
       "2                     []        [baguette]    0.279    0.279000  1.000000\n",
       "3                     []          [banana]    0.363    0.363000  1.000000\n",
       "4                     []         [bourbon]    0.442    0.442000  1.000000\n",
       "...                  ...               ...      ...         ...       ...\n",
       "1163      [soda, turkey]         [cracker]    0.038    0.558824  1.466728\n",
       "1164            [turkey]  [soda, sardines]    0.045    0.302013  2.323180\n",
       "1165    [soda, sardines]          [turkey]    0.045    0.346154  2.323180\n",
       "1166  [sardines, turkey]            [soda]    0.045    0.576923  2.465483\n",
       "1167      [soda, turkey]        [sardines]    0.045    0.661765  1.448063\n",
       "\n",
       "[1168 rows x 5 columns]"
      ]
     },
     "execution_count": 16,
     "metadata": {},
     "output_type": "execute_result"
    }
   ],
   "source": [
    "avocado_rules = list(apriori(store_transactions, min_support=0.02, min_confidence=0.2, max_length=3))\n",
    "avocado_assc_rules = ARutils.extract(avocado_rules)\n",
    "avocado_df = pd.DataFrame(avocado_assc_rules, columns=['LHS', 'RHS', 'Support', 'Confidence', 'Lift'])\n",
    "avocado_df"
   ]
  },
  {
   "cell_type": "code",
   "execution_count": 17,
   "id": "92a06baf-1ccc-4299-bab4-afc979b094e1",
   "metadata": {},
   "outputs": [
    {
     "data": {
      "text/html": [
       "<div>\n",
       "<style scoped>\n",
       "    .dataframe tbody tr th:only-of-type {\n",
       "        vertical-align: middle;\n",
       "    }\n",
       "\n",
       "    .dataframe tbody tr th {\n",
       "        vertical-align: top;\n",
       "    }\n",
       "\n",
       "    .dataframe thead th {\n",
       "        text-align: right;\n",
       "    }\n",
       "</style>\n",
       "<table border=\"1\" class=\"dataframe\">\n",
       "  <thead>\n",
       "    <tr style=\"text-align: right;\">\n",
       "      <th></th>\n",
       "      <th>LHS</th>\n",
       "      <th>RHS</th>\n",
       "      <th>Support</th>\n",
       "      <th>Confidence</th>\n",
       "      <th>Lift</th>\n",
       "    </tr>\n",
       "  </thead>\n",
       "  <tbody>\n",
       "    <tr>\n",
       "      <th>548</th>\n",
       "      <td>[coke]</td>\n",
       "      <td>[avocado, turkey]</td>\n",
       "      <td>0.068</td>\n",
       "      <td>0.242857</td>\n",
       "      <td>3.571429</td>\n",
       "    </tr>\n",
       "    <tr>\n",
       "      <th>549</th>\n",
       "      <td>[turkey]</td>\n",
       "      <td>[avocado, coke]</td>\n",
       "      <td>0.068</td>\n",
       "      <td>0.456376</td>\n",
       "      <td>3.405790</td>\n",
       "    </tr>\n",
       "    <tr>\n",
       "      <th>168</th>\n",
       "      <td>[apples]</td>\n",
       "      <td>[choclate, avocado]</td>\n",
       "      <td>0.023</td>\n",
       "      <td>0.425926</td>\n",
       "      <td>2.353182</td>\n",
       "    </tr>\n",
       "    <tr>\n",
       "      <th>517</th>\n",
       "      <td>[cracker]</td>\n",
       "      <td>[choclate, avocado]</td>\n",
       "      <td>0.158</td>\n",
       "      <td>0.414698</td>\n",
       "      <td>2.291150</td>\n",
       "    </tr>\n",
       "    <tr>\n",
       "      <th>516</th>\n",
       "      <td>[choclate]</td>\n",
       "      <td>[cracker, avocado]</td>\n",
       "      <td>0.158</td>\n",
       "      <td>0.442577</td>\n",
       "      <td>2.201876</td>\n",
       "    </tr>\n",
       "    <tr>\n",
       "      <th>...</th>\n",
       "      <td>...</td>\n",
       "      <td>...</td>\n",
       "      <td>...</td>\n",
       "      <td>...</td>\n",
       "      <td>...</td>\n",
       "    </tr>\n",
       "    <tr>\n",
       "      <th>533</th>\n",
       "      <td>[coke]</td>\n",
       "      <td>[cosmetics, avocado]</td>\n",
       "      <td>0.089</td>\n",
       "      <td>0.317857</td>\n",
       "      <td>0.892857</td>\n",
       "    </tr>\n",
       "    <tr>\n",
       "      <th>243</th>\n",
       "      <td>[turkey, artichoke]</td>\n",
       "      <td>[avocado]</td>\n",
       "      <td>0.021</td>\n",
       "      <td>0.428571</td>\n",
       "      <td>0.874636</td>\n",
       "    </tr>\n",
       "    <tr>\n",
       "      <th>224</th>\n",
       "      <td>[artichoke, coke]</td>\n",
       "      <td>[avocado]</td>\n",
       "      <td>0.037</td>\n",
       "      <td>0.415730</td>\n",
       "      <td>0.848429</td>\n",
       "    </tr>\n",
       "    <tr>\n",
       "      <th>567</th>\n",
       "      <td>[turkey]</td>\n",
       "      <td>[cosmetics, avocado]</td>\n",
       "      <td>0.043</td>\n",
       "      <td>0.288591</td>\n",
       "      <td>0.810648</td>\n",
       "    </tr>\n",
       "    <tr>\n",
       "      <th>410</th>\n",
       "      <td>[baguette]</td>\n",
       "      <td>[cosmetics, avocado]</td>\n",
       "      <td>0.061</td>\n",
       "      <td>0.218638</td>\n",
       "      <td>0.614152</td>\n",
       "    </tr>\n",
       "  </tbody>\n",
       "</table>\n",
       "<p>144 rows × 5 columns</p>\n",
       "</div>"
      ],
      "text/plain": [
       "                     LHS                   RHS  Support  Confidence      Lift\n",
       "548               [coke]     [avocado, turkey]    0.068    0.242857  3.571429\n",
       "549             [turkey]       [avocado, coke]    0.068    0.456376  3.405790\n",
       "168             [apples]   [choclate, avocado]    0.023    0.425926  2.353182\n",
       "517            [cracker]   [choclate, avocado]    0.158    0.414698  2.291150\n",
       "516           [choclate]    [cracker, avocado]    0.158    0.442577  2.201876\n",
       "..                   ...                   ...      ...         ...       ...\n",
       "533               [coke]  [cosmetics, avocado]    0.089    0.317857  0.892857\n",
       "243  [turkey, artichoke]             [avocado]    0.021    0.428571  0.874636\n",
       "224    [artichoke, coke]             [avocado]    0.037    0.415730  0.848429\n",
       "567             [turkey]  [cosmetics, avocado]    0.043    0.288591  0.810648\n",
       "410           [baguette]  [cosmetics, avocado]    0.061    0.218638  0.614152\n",
       "\n",
       "[144 rows x 5 columns]"
      ]
     },
     "execution_count": 17,
     "metadata": {},
     "output_type": "execute_result"
    }
   ],
   "source": [
    "avocado_df = avocado_df[avocado_df['RHS'].apply(lambda x: 'avocado' in x)].sort_values(by=['Lift'], ascending=False)\n",
    "avocado_df"
   ]
  },
  {
   "cell_type": "code",
   "execution_count": 18,
   "id": "ec408957-768c-4461-96c2-0b4c1cbac5e2",
   "metadata": {},
   "outputs": [
    {
     "data": {
      "application/vnd.plotly.v1+json": {
       "config": {
        "plotlyServerURL": "https://plot.ly"
       },
       "data": [
        {
         "customdata": [
          [
           [
            "coke"
           ],
           [
            "avocado",
            "turkey"
           ]
          ],
          [
           [
            "turkey"
           ],
           [
            "avocado",
            "coke"
           ]
          ],
          [
           [
            "apples"
           ],
           [
            "choclate",
            "avocado"
           ]
          ],
          [
           [
            "cracker"
           ],
           [
            "choclate",
            "avocado"
           ]
          ],
          [
           [
            "choclate"
           ],
           [
            "cracker",
            "avocado"
           ]
          ],
          [
           [
            "turkey"
           ],
           [
            "baguette",
            "avocado"
           ]
          ],
          [
           [
            "apples"
           ],
           [
            "bourbon",
            "avocado"
           ]
          ],
          [
           [
            "baguette"
           ],
           [
            "soda",
            "avocado"
           ]
          ],
          [
           [
            "soda"
           ],
           [
            "baguette",
            "avocado"
           ]
          ],
          [
           [
            "soda"
           ],
           [
            "bourbon",
            "avocado"
           ]
          ],
          [
           [
            "bourbon"
           ],
           [
            "soda",
            "avocado"
           ]
          ],
          [
           [
            "turkey"
           ],
           [
            "soda",
            "avocado"
           ]
          ],
          [
           [
            "baguette"
           ],
           [
            "avocado",
            "coke"
           ]
          ],
          [
           [
            "coke"
           ],
           [
            "baguette",
            "avocado"
           ]
          ],
          [
           [
            "soda"
           ],
           [
            "banana",
            "avocado"
           ]
          ],
          [
           [
            "baguette"
           ],
           [
            "bourbon",
            "avocado"
           ]
          ],
          [
           [
            "choclate"
           ],
           [
            "banana",
            "avocado"
           ]
          ],
          [
           [
            "sardines"
           ],
           [
            "bourbon",
            "avocado"
           ]
          ],
          [
           [
            "baguette"
           ],
           [
            "banana",
            "avocado"
           ]
          ],
          [
           [
            "turkey"
           ],
           [
            "choclate",
            "avocado"
           ]
          ],
          [
           [
            "bourbon"
           ],
           [
            "sardines",
            "avocado"
           ]
          ],
          [
           [
            "bourbon"
           ],
           [
            "baguette",
            "avocado"
           ]
          ],
          [
           [
            "banana"
           ],
           [
            "choclate",
            "avocado"
           ]
          ],
          [
           [
            "bourbon"
           ],
           [
            "banana",
            "avocado"
           ]
          ],
          [
           [
            "cosmetics",
            "artichoke"
           ],
           [
            "avocado"
           ]
          ],
          [
           [
            "banana"
           ],
           [
            "bourbon",
            "avocado"
           ]
          ],
          [
           [
            "cosmetics",
            "cracker"
           ],
           [
            "avocado"
           ]
          ],
          [
           [
            "baguette"
           ],
           [
            "choclate",
            "avocado"
           ]
          ],
          [
           [
            "cracker"
           ],
           [
            "banana",
            "avocado"
           ]
          ],
          [
           [
            "turkey"
           ],
           [
            "bourbon",
            "avocado"
           ]
          ],
          [
           [
            "apples",
            "cosmetics"
           ],
           [
            "avocado"
           ]
          ],
          [
           [
            "choclate",
            "cosmetics"
           ],
           [
            "avocado"
           ]
          ],
          [
           [
            "cosmetics"
           ],
           [
            "artichoke",
            "avocado"
           ]
          ],
          [
           [
            "cosmetics"
           ],
           [
            "avocado"
           ]
          ],
          [
           [
            "cosmetics"
           ],
           [
            "cracker",
            "avocado"
           ]
          ],
          [
           [
            "coke"
           ],
           [
            "choclate",
            "avocado"
           ]
          ],
          [
           [
            "apples",
            "bourbon"
           ],
           [
            "avocado"
           ]
          ],
          [
           [
            "cosmetics"
           ],
           [
            "choclate",
            "avocado"
           ]
          ],
          [
           [
            "sardines",
            "cosmetics"
           ],
           [
            "avocado"
           ]
          ],
          [
           [
            "choclate"
           ],
           [
            "bourbon",
            "avocado"
           ]
          ],
          [
           [
            "banana"
           ],
           [
            "cracker",
            "avocado"
           ]
          ],
          [
           [
            "cosmetics"
           ],
           [
            "sardines",
            "avocado"
           ]
          ],
          [
           [
            "turkey"
           ],
           [
            "banana",
            "avocado"
           ]
          ],
          [
           [
            "soda"
           ],
           [
            "choclate",
            "avocado"
           ]
          ],
          [
           [
            "cosmetics",
            "coke"
           ],
           [
            "avocado"
           ]
          ],
          [
           [
            "turkey"
           ],
           [
            "cracker",
            "avocado"
           ]
          ],
          [
           [
            "banana",
            "cosmetics"
           ],
           [
            "avocado"
           ]
          ],
          [
           [
            "coke"
           ],
           [
            "banana",
            "avocado"
           ]
          ],
          [
           [
            "bourbon"
           ],
           [
            "choclate",
            "avocado"
           ]
          ],
          [
           [
            "baguette"
           ],
           [
            "cracker",
            "avocado"
           ]
          ],
          [
           [
            "cosmetics"
           ],
           [
            "banana",
            "avocado"
           ]
          ],
          [
           [
            "bourbon",
            "cosmetics"
           ],
           [
            "avocado"
           ]
          ],
          [
           [
            "apples",
            "choclate"
           ],
           [
            "avocado"
           ]
          ],
          [
           [
            "soda"
           ],
           [
            "cracker",
            "avocado"
           ]
          ],
          [
           [
            "coke"
           ],
           [
            "bourbon",
            "avocado"
           ]
          ],
          [
           [
            "cracker"
           ],
           [
            "bourbon",
            "avocado"
           ]
          ],
          [
           [
            "cosmetics"
           ],
           [
            "bourbon",
            "avocado"
           ]
          ],
          [
           [
            "soda"
           ],
           [
            "sardines",
            "avocado"
           ]
          ],
          [
           [
            "cosmetics",
            "turkey"
           ],
           [
            "avocado"
           ]
          ],
          [
           [
            "coke"
           ],
           [
            "cracker",
            "avocado"
           ]
          ],
          [
           [
            "baguette"
           ],
           [
            "sardines",
            "avocado"
           ]
          ],
          [
           [
            "sardines"
           ],
           [
            "banana",
            "avocado"
           ]
          ],
          [
           [
            "banana"
           ],
           [
            "sardines",
            "avocado"
           ]
          ],
          [
           [
            "bourbon"
           ],
           [
            "cracker",
            "avocado"
           ]
          ],
          [
           [
            "apples"
           ],
           [
            "avocado"
           ]
          ],
          [
           [
            "banana",
            "baguette"
           ],
           [
            "avocado"
           ]
          ],
          [
           [
            "turkey"
           ],
           [
            "sardines",
            "avocado"
           ]
          ],
          [
           [
            "apples"
           ],
           [
            "cosmetics",
            "avocado"
           ]
          ],
          [
           [
            "cracker",
            "artichoke"
           ],
           [
            "avocado"
           ]
          ],
          [
           [
            "soda",
            "cosmetics"
           ],
           [
            "avocado"
           ]
          ],
          [
           [
            "cracker"
           ],
           [
            "avocado"
           ]
          ],
          [
           [
            "cracker"
           ],
           [
            "cosmetics",
            "avocado"
           ]
          ],
          [
           [
            "artichoke"
           ],
           [
            "cracker",
            "avocado"
           ]
          ],
          [
           [
            "baguette",
            "artichoke"
           ],
           [
            "avocado"
           ]
          ],
          [
           [
            "sardines",
            "banana"
           ],
           [
            "avocado"
           ]
          ],
          [
           [
            "soda",
            "cracker"
           ],
           [
            "avocado"
           ]
          ],
          [
           [
            "banana",
            "cracker"
           ],
           [
            "avocado"
           ]
          ],
          [
           [
            "bourbon",
            "baguette"
           ],
           [
            "avocado"
           ]
          ],
          [
           [
            "banana",
            "coke"
           ],
           [
            "avocado"
           ]
          ],
          [
           [
            "choclate",
            "baguette"
           ],
           [
            "avocado"
           ]
          ],
          [
           [
            "choclate",
            "banana"
           ],
           [
            "avocado"
           ]
          ],
          [
           [
            "cracker"
           ],
           [
            "sardines",
            "avocado"
           ]
          ],
          [
           [
            "banana",
            "bourbon"
           ],
           [
            "avocado"
           ]
          ],
          [
           [
            "coke"
           ],
           [
            "sardines",
            "avocado"
           ]
          ],
          [
           [
            "soda",
            "banana"
           ],
           [
            "avocado"
           ]
          ],
          [
           [
            "choclate",
            "coke"
           ],
           [
            "avocado"
           ]
          ],
          [
           [
            "choclate"
           ],
           [
            "avocado"
           ]
          ],
          [
           [
            "sardines",
            "baguette"
           ],
           [
            "avocado"
           ]
          ],
          [
           [
            "soda",
            "artichoke"
           ],
           [
            "avocado"
           ]
          ],
          [
           [
            "baguette"
           ],
           [
            "avocado"
           ]
          ],
          [
           [
            "soda",
            "choclate"
           ],
           [
            "avocado"
           ]
          ],
          [
           [
            "baguette",
            "coke"
           ],
           [
            "avocado"
           ]
          ],
          [
           [
            "cracker",
            "coke"
           ],
           [
            "avocado"
           ]
          ],
          [
           [
            "bourbon",
            "coke"
           ],
           [
            "avocado"
           ]
          ],
          [
           [
            "artichoke"
           ],
           [
            "sardines",
            "avocado"
           ]
          ],
          [
           [
            "bourbon",
            "cracker"
           ],
           [
            "avocado"
           ]
          ],
          [
           [
            "choclate"
           ],
           [
            "sardines",
            "avocado"
           ]
          ],
          [
           [
            "choclate"
           ],
           [
            "cosmetics",
            "avocado"
           ]
          ],
          [
           [
            "soda",
            "bourbon"
           ],
           [
            "avocado"
           ]
          ],
          [
           [
            "sardines"
           ],
           [
            "avocado"
           ]
          ],
          [
           [
            "baguette",
            "cracker"
           ],
           [
            "avocado"
           ]
          ],
          [
           [
            "choclate",
            "artichoke"
           ],
           [
            "avocado"
           ]
          ],
          [
           [
            "artichoke"
           ],
           [
            "cosmetics",
            "avocado"
           ]
          ],
          [
           [
            "soda"
           ],
           [
            "avocado"
           ]
          ],
          [
           [
            "choclate",
            "bourbon"
           ],
           [
            "avocado"
           ]
          ],
          [
           [
            "sardines",
            "cracker"
           ],
           [
            "avocado"
           ]
          ],
          [
           [
            "bourbon"
           ],
           [
            "avocado"
           ]
          ],
          [
           [
            "sardines",
            "coke"
           ],
           [
            "avocado"
           ]
          ],
          [
           [
            "choclate",
            "cracker"
           ],
           [
            "avocado"
           ]
          ],
          [
           [
            "artichoke"
           ],
           [
            "avocado"
           ]
          ],
          [
           [
            "banana"
           ],
           [
            "avocado"
           ]
          ],
          [
           [],
           [
            "avocado"
           ]
          ],
          [
           [],
           [
            "bourbon",
            "avocado"
           ]
          ],
          [
           [],
           [
            "cosmetics",
            "avocado"
           ]
          ],
          [
           [],
           [
            "cracker",
            "avocado"
           ]
          ],
          [
           [],
           [
            "sardines",
            "avocado"
           ]
          ],
          [
           [
            "bourbon",
            "turkey"
           ],
           [
            "avocado"
           ]
          ],
          [
           [
            "sardines",
            "bourbon"
           ],
           [
            "avocado"
           ]
          ],
          [
           [
            "banana",
            "turkey"
           ],
           [
            "avocado"
           ]
          ],
          [
           [
            "soda",
            "sardines"
           ],
           [
            "avocado"
           ]
          ],
          [
           [
            "soda",
            "baguette"
           ],
           [
            "avocado"
           ]
          ],
          [
           [
            "sardines",
            "artichoke"
           ],
           [
            "avocado"
           ]
          ],
          [
           [
            "banana",
            "artichoke"
           ],
           [
            "avocado"
           ]
          ],
          [
           [
            "bourbon",
            "artichoke"
           ],
           [
            "avocado"
           ]
          ],
          [
           [
            "coke"
           ],
           [
            "avocado"
           ]
          ],
          [
           [
            "artichoke"
           ],
           [
            "bourbon",
            "avocado"
           ]
          ],
          [
           [
            "sardines",
            "turkey"
           ],
           [
            "avocado"
           ]
          ],
          [
           [
            "sardines",
            "choclate"
           ],
           [
            "avocado"
           ]
          ],
          [
           [
            "choclate",
            "turkey"
           ],
           [
            "avocado"
           ]
          ],
          [
           [
            "sardines"
           ],
           [
            "cosmetics",
            "avocado"
           ]
          ],
          [
           [
            "cracker",
            "turkey"
           ],
           [
            "avocado"
           ]
          ],
          [
           [
            "soda",
            "coke"
           ],
           [
            "avocado"
           ]
          ],
          [
           [
            "baguette",
            "cosmetics"
           ],
           [
            "avocado"
           ]
          ],
          [
           [
            "turkey"
           ],
           [
            "avocado"
           ]
          ],
          [
           [
            "turkey",
            "coke"
           ],
           [
            "avocado"
           ]
          ],
          [
           [
            "banana"
           ],
           [
            "cosmetics",
            "avocado"
           ]
          ],
          [
           [
            "baguette",
            "turkey"
           ],
           [
            "avocado"
           ]
          ],
          [
           [
            "soda",
            "turkey"
           ],
           [
            "avocado"
           ]
          ],
          [
           [
            "bourbon"
           ],
           [
            "cosmetics",
            "avocado"
           ]
          ],
          [
           [
            "coke"
           ],
           [
            "cosmetics",
            "avocado"
           ]
          ],
          [
           [
            "turkey",
            "artichoke"
           ],
           [
            "avocado"
           ]
          ],
          [
           [
            "artichoke",
            "coke"
           ],
           [
            "avocado"
           ]
          ],
          [
           [
            "turkey"
           ],
           [
            "cosmetics",
            "avocado"
           ]
          ],
          [
           [
            "baguette"
           ],
           [
            "cosmetics",
            "avocado"
           ]
          ]
         ],
         "hovertemplate": "Support=%{x}<br>Confidence=%{y}<br>Lift=%{marker.color}<br>LHS=%{customdata[0]}<br>RHS=%{customdata[1]}<extra></extra>",
         "legendgroup": "",
         "marker": {
          "color": {
           "bdata": "JEmSJEmSDECCr7y+Dj8LQH3msAlR0wJAn1nyfEZUAkC8N+ILcZ0BQEj97jO6XwBALPR347dC/z+OFpVIvqb+P4LmmiLqEP4/o743dz3q+z93lkFmAMb7P8zzjSR3xfs/UVMMTEP2+j8mVxCTK4j5Pw1Bki9VM/g/cw/8+/as9z8uhfsb+6r3P86bh/l+Sfc/kyU9K2Iy9z87h+rFPiP3P/Qw8dltH/c//4LvDhYb9z8p+MM4EeT2P3Z5XMPmxvY/JS1LC2Gu9j/BlkR5J6X2P2lrGmcUmPY/7Y0hd7wt9j8tLiwUUC32P9m2sAWHKvY/snpYPawe9j8HlIkr3Rv2P0diUMpt6vU/ELWawP6v9T+1phrywK71P6/guB/Rd/U/EyMXhy119T8jD61GlHD1PxMMq/ggZ/U/w9NEIqfD9D/HkTzb+Zz0P7GNbpigg/Q/eU2f1OKC9D+o1jv6RGb0P9ZByqCRUvQ/6KWbCxpN9D/P8zzP8zz0P8Mc5jCHOfQ/KvDqGhIz9D+uUKqNyfjzPx5WPnzW9PM/eRee3lvu8z9dhSmDgcPzP1RDQwH8uvM/jLo88cOo8z9HtNv/znTzP7SOX1agTvM/lR29pAP68j8DC2oNXfnyP2/n+Fhpw/I/6J7WuOCx8j/eRSQdKn3yP7ATH42QQPI//E91TIkw8j+JtJGt/SPyP8HRym2Ai/E/8dzn6ryA8T9tS5QwaHrxP1404/Ywd/E/1skJW8xD8T9PtM+J9jnxPxc/jxr6OPE/fS+F3LwO8T9E7DH6WQ3xP0TsMfpZDfE/hDDZ69zo8D9UdpltYd3wP6F/Mz0Cy/A/A2NPeYi58D+CZoChHa/wPxYO7thzrvA/dSPT61+m8D9XfkKclZ/wPyOIR7Q9nfA/BVwCLgGX8D84jT9L+ZHwP/AbXykhjvA/8lF/tdiM8D8j5K/ZUYvwP7Qmi5+IgPA/+RMFSKd68D9RB3VQB3XwP4LoHkN/c/A/Bi3MjaRv8D9cIxiuzmrwP3asfcViaPA/InG1rR1j8D9qu3SIuF3wP0qhTv49PPA/AKXXmSc48D/5XwoI8zXwP+DAxbwMMfA/cRjoieEw8D9HlZ1r3i/wP/x44Y2dKvA/VtOdiakl8D8ZJK302hrwP/Lq+bk1FfA/736ZOX0S8D+C4w0UtgXwP5kcp1/+AvA/AAAAAAAA8D8AAAAAAADwPwAAAAAAAPA/AAAAAAAA8D8AAAAAAADwPynUllh28e8/wg7hdiri7z8T8QuQWbjvP2D6pV/6pe8/aawPjfWh7z9q+KJXiJnvP71iz07Si+8/8I8EjvpF7z+HLXXV7kDvP9vkmAu5/+4/g6ZD8YH67j+bHoFlSPnuP08R706er+4/dQzl+Qmv7j9wuUVHL6PuP2ujL3D/Me4/lv4Tl9Lz7T+5/2fi283tP7n/Z+Lbze0/P6VO2aB37T8JmpQpPPPsP8ktqxPAz+w/MmuEOrCs7D8kSZIkSZLsP7fUVbsD/es/Bko7HlUm6z82Hm+U0/DpP/MGomQhp+M/",
           "dtype": "f8"
          },
          "coloraxis": "coloraxis",
          "size": {
           "bdata": "JEmSJEmSDECCr7y+Dj8LQH3msAlR0wJAn1nyfEZUAkC8N+ILcZ0BQEj97jO6XwBALPR347dC/z+OFpVIvqb+P4LmmiLqEP4/o743dz3q+z93lkFmAMb7P8zzjSR3xfs/UVMMTEP2+j8mVxCTK4j5Pw1Bki9VM/g/cw/8+/as9z8uhfsb+6r3P86bh/l+Sfc/kyU9K2Iy9z87h+rFPiP3P/Qw8dltH/c//4LvDhYb9z8p+MM4EeT2P3Z5XMPmxvY/JS1LC2Gu9j/BlkR5J6X2P2lrGmcUmPY/7Y0hd7wt9j8tLiwUUC32P9m2sAWHKvY/snpYPawe9j8HlIkr3Rv2P0diUMpt6vU/ELWawP6v9T+1phrywK71P6/guB/Rd/U/EyMXhy119T8jD61GlHD1PxMMq/ggZ/U/w9NEIqfD9D/HkTzb+Zz0P7GNbpigg/Q/eU2f1OKC9D+o1jv6RGb0P9ZByqCRUvQ/6KWbCxpN9D/P8zzP8zz0P8Mc5jCHOfQ/KvDqGhIz9D+uUKqNyfjzPx5WPnzW9PM/eRee3lvu8z9dhSmDgcPzP1RDQwH8uvM/jLo88cOo8z9HtNv/znTzP7SOX1agTvM/lR29pAP68j8DC2oNXfnyP2/n+Fhpw/I/6J7WuOCx8j/eRSQdKn3yP7ATH42QQPI//E91TIkw8j+JtJGt/SPyP8HRym2Ai/E/8dzn6ryA8T9tS5QwaHrxP1404/Ywd/E/1skJW8xD8T9PtM+J9jnxPxc/jxr6OPE/fS+F3LwO8T9E7DH6WQ3xP0TsMfpZDfE/hDDZ69zo8D9UdpltYd3wP6F/Mz0Cy/A/A2NPeYi58D+CZoChHa/wPxYO7thzrvA/dSPT61+m8D9XfkKclZ/wPyOIR7Q9nfA/BVwCLgGX8D84jT9L+ZHwP/AbXykhjvA/8lF/tdiM8D8j5K/ZUYvwP7Qmi5+IgPA/+RMFSKd68D9RB3VQB3XwP4LoHkN/c/A/Bi3MjaRv8D9cIxiuzmrwP3asfcViaPA/InG1rR1j8D9qu3SIuF3wP0qhTv49PPA/AKXXmSc48D/5XwoI8zXwP+DAxbwMMfA/cRjoieEw8D9HlZ1r3i/wP/x44Y2dKvA/VtOdiakl8D8ZJK302hrwP/Lq+bk1FfA/736ZOX0S8D+C4w0UtgXwP5kcp1/+AvA/AAAAAAAA8D8AAAAAAADwPwAAAAAAAPA/AAAAAAAA8D8AAAAAAADwPynUllh28e8/wg7hdiri7z8T8QuQWbjvP2D6pV/6pe8/aawPjfWh7z9q+KJXiJnvP71iz07Si+8/8I8EjvpF7z+HLXXV7kDvP9vkmAu5/+4/g6ZD8YH67j+bHoFlSPnuP08R706er+4/dQzl+Qmv7j9wuUVHL6PuP2ujL3D/Me4/lv4Tl9Lz7T+5/2fi283tP7n/Z+Lbze0/P6VO2aB37T8JmpQpPPPsP8ktqxPAz+w/MmuEOrCs7D8kSZIkSZLsP7fUVbsD/es/Bko7HlUm6z82Hm+U0/DpP/MGomQhp+M/",
           "dtype": "f8"
          },
          "sizemode": "area",
          "sizeref": 0.008928571428571428,
          "symbol": "circle"
         },
         "mode": "markers",
         "name": "",
         "orientation": "v",
         "showlegend": false,
         "type": "scatter",
         "x": {
          "bdata": "nMQgsHJosT+cxCCwcmixP1pkO99PjZc/001iEFg5xD/TTWIQWDnEP2q8dJMYBKY/WmQ730+Nlz9YObTIdr6vP1g5tMh2vq8/YhBYObTItj9iEFg5tMi2P7gehetRuJ4/VOOlm8QgsD9U46WbxCCwP1TjpZvEILA/CtejcD0Ktz+q8dJNYhC4P4/C9Shcj8I/O99PjZdusj8rhxbZzvejP4/C9Shcj8I/CtejcD0Ktz+q8dJNYhC4P3npJjEIrLw/GQRWDi2yvT956SYxCKy8P+Olm8QgsMI/7FG4HoXrsT+q8dJNYhC4PwrXo3A9Cqc/Gy/dJAaBlT+kcD0K16PAPxkEVg4tsr0/YhBYObTI1j/jpZvEILDCP5zEILByaLE/WmQ730+Nlz+kcD0K16PAPyuHFtnO98M/QmDl0CLbuT+q8dJNYhC4PyuHFtnO98M/nMQgsHJooT/ZzvdT46WrP2IQWDm0yLY/2/l+arx0oz8QWDm0yHa+P1TjpZvEILA/QmDl0CLbuT/sUbgeheuxPxBYObTIdr4/PzVeukkMwj9aZDvfT42XPxkEVg4tsq0/MzMzMzMzsz9CYOXQItu5Pz81XrpJDMI/VOOlm8QgsD9qvHSTGASmP0w3iUFg5bA/i2zn+6nxsj+q8dJNYhC4P6rx0k1iELg/QmDl0CLbuT+4HoXrUbiePzvfT42XbrI/i2zn+6nxoj8bL90kBoGVP0SLbOf7qbE/WmQ730+Npz/ufD81XrrJP+Olm8QgsMI/RIts5/upsT+q8dJNYhCoP6rx0k1iELg/GQRWDi2yrT+q8dJNYhC4PwrXo3A9Crc/VOOlm8QgsD/sUbgeheuxP6rx0k1iELg/CtejcD0Ktz956SYxCKy8P0w3iUFg5bA/VOOlm8QgsD+cxCCwcmixP166SQwCK8c/i2zn+6nxsj/b+X5qvHSjPz81XrpJDMI/2c73U+Olqz9U46WbxCCwP0w3iUFg5bA/MzMzMzMzsz8zMzMzMzOzP0Jg5dAi27k/c2iR7Xw/tT+kcD0K16PAP2IQWDm0yLY/dZMYBFYOzT/sUbgeheuxP7gehetRuK4/GQRWDi2yvT8ZBFYOLbK9P0Jg5dAi27k/CtejcD0Ktz+BlUOLbOfLP0w3iUFg5bA/001iEFg5xD/TTWIQWDnEP2IQWDm0yMY/XI/C9Shc3z+BlUOLbOfLP2IQWDm0yNY/7nw/NV66yT91kxgEVg7NPwrXo3A9Cqc/j8L1KFyPwj+cxCCwcmihP1TjpZvEILA/WDm0yHa+rz8zMzMzMzOzP8l2vp8aL60/nMQgsHJosT/0/dR46SbBP5zEILByaLE/i2zn+6nxoj9zaJHtfD+1PyuHFtnO96M/K4cW2c73wz/b+X5qvHSjP2q8dJMYBKY/CKwcWmQ7rz+cxCCwcmixP5zEILByaLE/EFg5tMh2vj9qvHSTGASmP7gehetRuJ4/PzVeukkMwj9iEFg5tMi2Pxsv3SQGgZU/i2zn+6nxoj9qvHSTGASmPwisHFpkO68/",
          "dtype": "f8"
         },
         "xaxis": "x",
         "y": {
          "bdata": "X/EVX/EVzz/F1rcBQzXdPya0l9BeQts/o6aoKWqK2j+dLlOcLlPcP6GajrlEeNI/JrSX0F5C2z8cx3Ecx3HMP1EP9VAP9dA/eIVXeIVX2D/ZFMbZFMbJP1OQ/HmVxck/55xzzjnnzD/MzMzMzMzMP7ETO7ETO9E/pJRSSiml1D+R/tmQ/tnQP8auiKxsTtQ/gxBCCCGE0D9p97D1bcDQP3XX/nTX/tQ/mjcQmjcQyj9NefxOsJLQPxCaNxCaN9A/w5cbYkA65j+otjdTHr/TP01AKeplJOY/uTpAVq4O0D/lR/lRfpTPPz5sfRswVNM/rrXWWmut5T+rqqqqqqrlPzUm0gOVs8s/hV+NifRA5T+YSA9Uzm7RP1/xFV/xFc8/dFAHdVAH5T9FeqBydgvPP9WL+dSL+eQ/0z8b0j8b0j9NefxOsJLQP8OvxkR6oNI/xda3AUM1zT+d2Imd2InNP9f4u3mE6uM/m465RHhS0D9VVVVVVdXjP8zMzMzMzMw/3rU/3bU/zT+5OkBWrg7QP4HK2S38asw/PiHOyk+I4z/lNZTXUF7jP6D7uZ/7uc8/SZIkSZIk0T8+dA/dQ/fQPwOVs1v41dA/sRM7sRM70T+DKfJZN5jiP77iK77iK84/TuZDupP50D+wltu4BlTKP015/E6wktA/3rU/3bU/zT9yHMdxHMfhPylnt/CrMeE/mUuEJwXJzz85juM4juPYP0jcEXfEHeE/cLYO/Wbr4D85HA6Hw+HgPyFmiBlihtg/3LZt27Ztyz9hC7ZgC7bgP2ELtmALtuA/JUmSJEmS4D9xCIdwCIfgP1EHdVAHdeA/ZHA+Budj4D+U6auEsVngP4YsZCELWeA/j8fj8Xg8zj9LkKcEeUrgP77iK77iK84/QgghhBBC4D9v4VdjIj3gP/BdOfBdOeA/ggMHDhw44D830GkDnTbgPyuwwAILLOA/IlaUxkcm4D9U46WbxCDgP0JKnmVEH+A/NNo9bH0b4D8m6K5STNDNP9D1x8tgFOA/n1TCnVTCzT+YKU6XKU7XP5B5KRE80t8/14BKIznK3z+BIuGU5sXfP45lUCpMvN8/KIfLgE8O1z+g+7mf+7nfP7Gvr6+vr98/YPqlX/ql3z/fy5Dfy5DfPyI9UDm7hd8/Oza8FGaA3z+tsy+iWmffP0tCZg0HYt8/XI/C9Shc3z+BlUOLbOfLP2IQWDm0yNY/7nw/NV66yT91kxgEVg7NP/WmN73pTd8/BlHSLOw+3z9f8RVf8RXfPz/wAz/wA98/AAAAAAAA3z/33nvvvffeP5CtCBpO6t4/vdST8dul3j8O6qAO6qDeP/qDjUfzB8s/vuVbvuVb3j8TTPR3slreP/aQy4qBEt4/nai7qcnY1T+6NT8sUgbeP5dddtlll90/p9WdVnda3T/F1rcBQzXdP8XWtwFDNd0/EjJrOBD71D9b/aCjAl/cPzs8PDw8PNw/9JFq9JFq1D98xVd8xVfUP9y2bdu2bds/qk1talOb2j+hmo65RHjSP1Hxb2pU/Ms/",
          "dtype": "f8"
         },
         "yaxis": "y"
        }
       ],
       "layout": {
        "coloraxis": {
         "colorbar": {
          "title": {
           "text": "Lift"
          }
         },
         "colorscale": [
          [
           0,
           "rgb(75, 41, 145)"
          ],
          [
           0.16666666666666666,
           "rgb(135, 44, 162)"
          ],
          [
           0.3333333333333333,
           "rgb(192, 54, 157)"
          ],
          [
           0.5,
           "rgb(234, 79, 136)"
          ],
          [
           0.6666666666666666,
           "rgb(250, 120, 118)"
          ],
          [
           0.8333333333333334,
           "rgb(246, 169, 122)"
          ],
          [
           1,
           "rgb(237, 217, 163)"
          ]
         ]
        },
        "legend": {
         "itemsizing": "constant",
         "tracegroupgap": 0
        },
        "margin": {
         "t": 60
        },
        "template": {
         "data": {
          "bar": [
           {
            "error_x": {
             "color": "#2a3f5f"
            },
            "error_y": {
             "color": "#2a3f5f"
            },
            "marker": {
             "line": {
              "color": "#E5ECF6",
              "width": 0.5
             },
             "pattern": {
              "fillmode": "overlay",
              "size": 10,
              "solidity": 0.2
             }
            },
            "type": "bar"
           }
          ],
          "barpolar": [
           {
            "marker": {
             "line": {
              "color": "#E5ECF6",
              "width": 0.5
             },
             "pattern": {
              "fillmode": "overlay",
              "size": 10,
              "solidity": 0.2
             }
            },
            "type": "barpolar"
           }
          ],
          "carpet": [
           {
            "aaxis": {
             "endlinecolor": "#2a3f5f",
             "gridcolor": "white",
             "linecolor": "white",
             "minorgridcolor": "white",
             "startlinecolor": "#2a3f5f"
            },
            "baxis": {
             "endlinecolor": "#2a3f5f",
             "gridcolor": "white",
             "linecolor": "white",
             "minorgridcolor": "white",
             "startlinecolor": "#2a3f5f"
            },
            "type": "carpet"
           }
          ],
          "choropleth": [
           {
            "colorbar": {
             "outlinewidth": 0,
             "ticks": ""
            },
            "type": "choropleth"
           }
          ],
          "contour": [
           {
            "colorbar": {
             "outlinewidth": 0,
             "ticks": ""
            },
            "colorscale": [
             [
              0,
              "#0d0887"
             ],
             [
              0.1111111111111111,
              "#46039f"
             ],
             [
              0.2222222222222222,
              "#7201a8"
             ],
             [
              0.3333333333333333,
              "#9c179e"
             ],
             [
              0.4444444444444444,
              "#bd3786"
             ],
             [
              0.5555555555555556,
              "#d8576b"
             ],
             [
              0.6666666666666666,
              "#ed7953"
             ],
             [
              0.7777777777777778,
              "#fb9f3a"
             ],
             [
              0.8888888888888888,
              "#fdca26"
             ],
             [
              1,
              "#f0f921"
             ]
            ],
            "type": "contour"
           }
          ],
          "contourcarpet": [
           {
            "colorbar": {
             "outlinewidth": 0,
             "ticks": ""
            },
            "type": "contourcarpet"
           }
          ],
          "heatmap": [
           {
            "colorbar": {
             "outlinewidth": 0,
             "ticks": ""
            },
            "colorscale": [
             [
              0,
              "#0d0887"
             ],
             [
              0.1111111111111111,
              "#46039f"
             ],
             [
              0.2222222222222222,
              "#7201a8"
             ],
             [
              0.3333333333333333,
              "#9c179e"
             ],
             [
              0.4444444444444444,
              "#bd3786"
             ],
             [
              0.5555555555555556,
              "#d8576b"
             ],
             [
              0.6666666666666666,
              "#ed7953"
             ],
             [
              0.7777777777777778,
              "#fb9f3a"
             ],
             [
              0.8888888888888888,
              "#fdca26"
             ],
             [
              1,
              "#f0f921"
             ]
            ],
            "type": "heatmap"
           }
          ],
          "histogram": [
           {
            "marker": {
             "pattern": {
              "fillmode": "overlay",
              "size": 10,
              "solidity": 0.2
             }
            },
            "type": "histogram"
           }
          ],
          "histogram2d": [
           {
            "colorbar": {
             "outlinewidth": 0,
             "ticks": ""
            },
            "colorscale": [
             [
              0,
              "#0d0887"
             ],
             [
              0.1111111111111111,
              "#46039f"
             ],
             [
              0.2222222222222222,
              "#7201a8"
             ],
             [
              0.3333333333333333,
              "#9c179e"
             ],
             [
              0.4444444444444444,
              "#bd3786"
             ],
             [
              0.5555555555555556,
              "#d8576b"
             ],
             [
              0.6666666666666666,
              "#ed7953"
             ],
             [
              0.7777777777777778,
              "#fb9f3a"
             ],
             [
              0.8888888888888888,
              "#fdca26"
             ],
             [
              1,
              "#f0f921"
             ]
            ],
            "type": "histogram2d"
           }
          ],
          "histogram2dcontour": [
           {
            "colorbar": {
             "outlinewidth": 0,
             "ticks": ""
            },
            "colorscale": [
             [
              0,
              "#0d0887"
             ],
             [
              0.1111111111111111,
              "#46039f"
             ],
             [
              0.2222222222222222,
              "#7201a8"
             ],
             [
              0.3333333333333333,
              "#9c179e"
             ],
             [
              0.4444444444444444,
              "#bd3786"
             ],
             [
              0.5555555555555556,
              "#d8576b"
             ],
             [
              0.6666666666666666,
              "#ed7953"
             ],
             [
              0.7777777777777778,
              "#fb9f3a"
             ],
             [
              0.8888888888888888,
              "#fdca26"
             ],
             [
              1,
              "#f0f921"
             ]
            ],
            "type": "histogram2dcontour"
           }
          ],
          "mesh3d": [
           {
            "colorbar": {
             "outlinewidth": 0,
             "ticks": ""
            },
            "type": "mesh3d"
           }
          ],
          "parcoords": [
           {
            "line": {
             "colorbar": {
              "outlinewidth": 0,
              "ticks": ""
             }
            },
            "type": "parcoords"
           }
          ],
          "pie": [
           {
            "automargin": true,
            "type": "pie"
           }
          ],
          "scatter": [
           {
            "fillpattern": {
             "fillmode": "overlay",
             "size": 10,
             "solidity": 0.2
            },
            "type": "scatter"
           }
          ],
          "scatter3d": [
           {
            "line": {
             "colorbar": {
              "outlinewidth": 0,
              "ticks": ""
             }
            },
            "marker": {
             "colorbar": {
              "outlinewidth": 0,
              "ticks": ""
             }
            },
            "type": "scatter3d"
           }
          ],
          "scattercarpet": [
           {
            "marker": {
             "colorbar": {
              "outlinewidth": 0,
              "ticks": ""
             }
            },
            "type": "scattercarpet"
           }
          ],
          "scattergeo": [
           {
            "marker": {
             "colorbar": {
              "outlinewidth": 0,
              "ticks": ""
             }
            },
            "type": "scattergeo"
           }
          ],
          "scattergl": [
           {
            "marker": {
             "colorbar": {
              "outlinewidth": 0,
              "ticks": ""
             }
            },
            "type": "scattergl"
           }
          ],
          "scattermap": [
           {
            "marker": {
             "colorbar": {
              "outlinewidth": 0,
              "ticks": ""
             }
            },
            "type": "scattermap"
           }
          ],
          "scattermapbox": [
           {
            "marker": {
             "colorbar": {
              "outlinewidth": 0,
              "ticks": ""
             }
            },
            "type": "scattermapbox"
           }
          ],
          "scatterpolar": [
           {
            "marker": {
             "colorbar": {
              "outlinewidth": 0,
              "ticks": ""
             }
            },
            "type": "scatterpolar"
           }
          ],
          "scatterpolargl": [
           {
            "marker": {
             "colorbar": {
              "outlinewidth": 0,
              "ticks": ""
             }
            },
            "type": "scatterpolargl"
           }
          ],
          "scatterternary": [
           {
            "marker": {
             "colorbar": {
              "outlinewidth": 0,
              "ticks": ""
             }
            },
            "type": "scatterternary"
           }
          ],
          "surface": [
           {
            "colorbar": {
             "outlinewidth": 0,
             "ticks": ""
            },
            "colorscale": [
             [
              0,
              "#0d0887"
             ],
             [
              0.1111111111111111,
              "#46039f"
             ],
             [
              0.2222222222222222,
              "#7201a8"
             ],
             [
              0.3333333333333333,
              "#9c179e"
             ],
             [
              0.4444444444444444,
              "#bd3786"
             ],
             [
              0.5555555555555556,
              "#d8576b"
             ],
             [
              0.6666666666666666,
              "#ed7953"
             ],
             [
              0.7777777777777778,
              "#fb9f3a"
             ],
             [
              0.8888888888888888,
              "#fdca26"
             ],
             [
              1,
              "#f0f921"
             ]
            ],
            "type": "surface"
           }
          ],
          "table": [
           {
            "cells": {
             "fill": {
              "color": "#EBF0F8"
             },
             "line": {
              "color": "white"
             }
            },
            "header": {
             "fill": {
              "color": "#C8D4E3"
             },
             "line": {
              "color": "white"
             }
            },
            "type": "table"
           }
          ]
         },
         "layout": {
          "annotationdefaults": {
           "arrowcolor": "#2a3f5f",
           "arrowhead": 0,
           "arrowwidth": 1
          },
          "autotypenumbers": "strict",
          "coloraxis": {
           "colorbar": {
            "outlinewidth": 0,
            "ticks": ""
           }
          },
          "colorscale": {
           "diverging": [
            [
             0,
             "#8e0152"
            ],
            [
             0.1,
             "#c51b7d"
            ],
            [
             0.2,
             "#de77ae"
            ],
            [
             0.3,
             "#f1b6da"
            ],
            [
             0.4,
             "#fde0ef"
            ],
            [
             0.5,
             "#f7f7f7"
            ],
            [
             0.6,
             "#e6f5d0"
            ],
            [
             0.7,
             "#b8e186"
            ],
            [
             0.8,
             "#7fbc41"
            ],
            [
             0.9,
             "#4d9221"
            ],
            [
             1,
             "#276419"
            ]
           ],
           "sequential": [
            [
             0,
             "#0d0887"
            ],
            [
             0.1111111111111111,
             "#46039f"
            ],
            [
             0.2222222222222222,
             "#7201a8"
            ],
            [
             0.3333333333333333,
             "#9c179e"
            ],
            [
             0.4444444444444444,
             "#bd3786"
            ],
            [
             0.5555555555555556,
             "#d8576b"
            ],
            [
             0.6666666666666666,
             "#ed7953"
            ],
            [
             0.7777777777777778,
             "#fb9f3a"
            ],
            [
             0.8888888888888888,
             "#fdca26"
            ],
            [
             1,
             "#f0f921"
            ]
           ],
           "sequentialminus": [
            [
             0,
             "#0d0887"
            ],
            [
             0.1111111111111111,
             "#46039f"
            ],
            [
             0.2222222222222222,
             "#7201a8"
            ],
            [
             0.3333333333333333,
             "#9c179e"
            ],
            [
             0.4444444444444444,
             "#bd3786"
            ],
            [
             0.5555555555555556,
             "#d8576b"
            ],
            [
             0.6666666666666666,
             "#ed7953"
            ],
            [
             0.7777777777777778,
             "#fb9f3a"
            ],
            [
             0.8888888888888888,
             "#fdca26"
            ],
            [
             1,
             "#f0f921"
            ]
           ]
          },
          "colorway": [
           "#636efa",
           "#EF553B",
           "#00cc96",
           "#ab63fa",
           "#FFA15A",
           "#19d3f3",
           "#FF6692",
           "#B6E880",
           "#FF97FF",
           "#FECB52"
          ],
          "font": {
           "color": "#2a3f5f"
          },
          "geo": {
           "bgcolor": "white",
           "lakecolor": "white",
           "landcolor": "#E5ECF6",
           "showlakes": true,
           "showland": true,
           "subunitcolor": "white"
          },
          "hoverlabel": {
           "align": "left"
          },
          "hovermode": "closest",
          "mapbox": {
           "style": "light"
          },
          "paper_bgcolor": "white",
          "plot_bgcolor": "#E5ECF6",
          "polar": {
           "angularaxis": {
            "gridcolor": "white",
            "linecolor": "white",
            "ticks": ""
           },
           "bgcolor": "#E5ECF6",
           "radialaxis": {
            "gridcolor": "white",
            "linecolor": "white",
            "ticks": ""
           }
          },
          "scene": {
           "xaxis": {
            "backgroundcolor": "#E5ECF6",
            "gridcolor": "white",
            "gridwidth": 2,
            "linecolor": "white",
            "showbackground": true,
            "ticks": "",
            "zerolinecolor": "white"
           },
           "yaxis": {
            "backgroundcolor": "#E5ECF6",
            "gridcolor": "white",
            "gridwidth": 2,
            "linecolor": "white",
            "showbackground": true,
            "ticks": "",
            "zerolinecolor": "white"
           },
           "zaxis": {
            "backgroundcolor": "#E5ECF6",
            "gridcolor": "white",
            "gridwidth": 2,
            "linecolor": "white",
            "showbackground": true,
            "ticks": "",
            "zerolinecolor": "white"
           }
          },
          "shapedefaults": {
           "line": {
            "color": "#2a3f5f"
           }
          },
          "ternary": {
           "aaxis": {
            "gridcolor": "white",
            "linecolor": "white",
            "ticks": ""
           },
           "baxis": {
            "gridcolor": "white",
            "linecolor": "white",
            "ticks": ""
           },
           "bgcolor": "#E5ECF6",
           "caxis": {
            "gridcolor": "white",
            "linecolor": "white",
            "ticks": ""
           }
          },
          "title": {
           "x": 0.05
          },
          "xaxis": {
           "automargin": true,
           "gridcolor": "white",
           "linecolor": "white",
           "ticks": "",
           "title": {
            "standoff": 15
           },
           "zerolinecolor": "white",
           "zerolinewidth": 2
          },
          "yaxis": {
           "automargin": true,
           "gridcolor": "white",
           "linecolor": "white",
           "ticks": "",
           "title": {
            "standoff": 15
           },
           "zerolinecolor": "white",
           "zerolinewidth": 2
          }
         }
        },
        "xaxis": {
         "anchor": "y",
         "domain": [
          0,
          1
         ],
         "title": {
          "text": "Support"
         }
        },
        "yaxis": {
         "anchor": "x",
         "domain": [
          0,
          1
         ],
         "title": {
          "text": "Confidence"
         }
        }
       }
      }
     },
     "metadata": {},
     "output_type": "display_data"
    }
   ],
   "source": [
    "avocado_fig = px.scatter(\n",
    "    avocado_df,\n",
    "    x='Support', \n",
    "    y='Confidence', \n",
    "    color='Lift', \n",
    "    size='Lift', \n",
    "    hover_data=['LHS', 'RHS'], \n",
    "    color_continuous_scale='agsunset'\n",
    "\n",
    ")\n",
    "avocado_fig.show()"
   ]
  },
  {
   "cell_type": "code",
   "execution_count": null,
   "id": "1bd2c920-be6e-430a-993e-f789c6fdc3fe",
   "metadata": {},
   "outputs": [],
   "source": []
  }
 ],
 "metadata": {
  "kernelspec": {
   "display_name": "jupyterKernel",
   "language": "python",
   "name": "jupyterkernel"
  },
  "language_info": {
   "codemirror_mode": {
    "name": "ipython",
    "version": 3
   },
   "file_extension": ".py",
   "mimetype": "text/x-python",
   "name": "python",
   "nbconvert_exporter": "python",
   "pygments_lexer": "ipython3",
   "version": "3.11.8"
  }
 },
 "nbformat": 4,
 "nbformat_minor": 5
}
